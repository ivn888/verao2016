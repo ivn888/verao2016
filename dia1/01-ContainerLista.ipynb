{
 "cells": [
  {
   "cell_type": "code",
   "execution_count": null,
   "metadata": {
    "collapsed": true
   },
   "outputs": [],
   "source": [
    "from __future__ import division, print_function"
   ]
  },
  {
   "cell_type": "markdown",
   "metadata": {},
   "source": [
    "# Notebook sobre Elementos Contêiner em Python\n",
    "\n",
    "Além dos tipos básicos o python oferece 4 outros tipos que podem ser utilizado para armazenar a informação e lidar com ela de maneira eficiente. Cada um dos elementos tem características distintas que dependendo da escolha feita pode facilitar ou complicar a forma como o programa é desenvolvido. São eles:\n",
    "\n",
    "| Tipo        \t| Instância \t| Inicialização Constante            \t|\n",
    "|-------------\t|-----------\t|---------------------------------------|\n",
    "| Listas      \t| list()    \t| [ item1, item2, item3, ... ]          |\n",
    "| Dicionários \t| dict()    \t| { chave1: item1, chave2: item2, ... } |\n",
    "| Tuplas      \t| tuple()¹  \t| item1, item2, item3,...               |\n",
    "| Conjuntos   \t| set()²    \t| {item1, item2, item3 }                |\n",
    "\n",
    " + ¹ Para criar uma tupla vazia utilize (), para criar um tupla com 1 elemento utilize (1,)\n",
    " + ² Se quiser criar um Conjunto imutável utilize a instância do tipo frozenset()\n",
    "\n",
    "Qualquer um desses tipos podem conter qualquer outro tipo de elemento, sendo então possível de se criar \n",
    "dicionários, de listas de dicionários !! Vamos começar praticando com as listas."
   ]
  },
  {
   "cell_type": "markdown",
   "metadata": {},
   "source": [
    "Considere a seguinte lista de frutas:"
   ]
  },
  {
   "cell_type": "code",
   "execution_count": null,
   "metadata": {
    "collapsed": true
   },
   "outputs": [],
   "source": [
    "# Vamos definir uma lista de frutas\n",
    "#\n",
    "frutas  = [\n",
    "    \"banana\",\n",
    "    \"laranja\",\n",
    "    \"abacaxi\",\n",
    "    \"uva\" ]"
   ]
  },
  {
   "cell_type": "markdown",
   "metadata": {},
   "source": [
    "Imprima o tipo e o conteúdo da variável frutas !"
   ]
  },
  {
   "cell_type": "code",
   "execution_count": null,
   "metadata": {
    "collapsed": false
   },
   "outputs": [],
   "source": []
  },
  {
   "cell_type": "markdown",
   "metadata": {},
   "source": [
    "Como você pode ver, criar uma lista não é diferente de criar uma variável, basta apenas inicializá-la com os valores desejados utilizando-se a sintaxe correta. A lista é criada, e os elementos são inseridos um a um dentro do objeto.\n",
    "\n",
    "## Acessando elementos de uma lista\n",
    "\n",
    "Para acessar agora os itens da lista individualmente utilize o [__i__] após o nome da lista onde __i__ é o elemento da lista a ser acessado, tente obter a palavra \"abacaxi\" da lista:"
   ]
  },
  {
   "cell_type": "code",
   "execution_count": null,
   "metadata": {
    "collapsed": false
   },
   "outputs": [],
   "source": []
  },
  {
   "cell_type": "markdown",
   "metadata": {},
   "source": [
    "As listas são indexadas por números inteiros começando de 0. Valores positivos acessam a lista do início para o fim, enquanto que números negativos do fim para o início. Para cortar uma lista, basta indicar as posições de início e fim da sublista separadas por __:__ dentro do __[]__. Faça:"
   ]
  },
  {
   "cell_type": "markdown",
   "metadata": {},
   "source": [
    "Imprima o penúltimo item da lista __frutas__:"
   ]
  },
  {
   "cell_type": "code",
   "execution_count": null,
   "metadata": {
    "collapsed": false
   },
   "outputs": [],
   "source": []
  },
  {
   "cell_type": "markdown",
   "metadata": {},
   "source": [
    "Cria uma sublista contendo os elementos 1 e 2 da lista __frutas__:"
   ]
  },
  {
   "cell_type": "code",
   "execution_count": null,
   "metadata": {
    "collapsed": false
   },
   "outputs": [],
   "source": []
  },
  {
   "cell_type": "markdown",
   "metadata": {},
   "source": [
    "O operador \":\" dentro dos \"[]'s\"  ainda permitem indicar um passo, adicionando-se mais um \":\" após o intervalo e indicando o passo ! Obtenha os elementos *banana* e *abacaxi* da lista !"
   ]
  },
  {
   "cell_type": "code",
   "execution_count": null,
   "metadata": {
    "collapsed": false
   },
   "outputs": [],
   "source": []
  },
  {
   "cell_type": "markdown",
   "metadata": {},
   "source": [
    "Utilizando agora a construção com os \"::\" é possível inverter a lista, se você pedir para ele obter todos os elementos da lista de  trás para frente especificando um *step* negativo !\n",
    "\n",
    "> Pare solicitar todos os elementos de uma lista não indique o início nem o fim"
   ]
  },
  {
   "cell_type": "code",
   "execution_count": null,
   "metadata": {
    "collapsed": false
   },
   "outputs": [],
   "source": []
  },
  {
   "cell_type": "markdown",
   "metadata": {},
   "source": [
    "## Listas em laços __for__\n",
    "\n",
    "Listas são objetos iteráveis. Faça agora um laço utilizando o __for__ para imprimir cada elemento da lista contando o número de elementos na lista, ao fim, imprima o número total de elementos na lista:\n"
   ]
  },
  {
   "cell_type": "code",
   "execution_count": null,
   "metadata": {
    "collapsed": false
   },
   "outputs": [],
   "source": []
  },
  {
   "cell_type": "markdown",
   "metadata": {},
   "source": [
    "Uma forma mais elegante de obter o número de elementos em uma lista é utilizando a função interna do Python __len()__.\n",
    "\n",
    "Compare o valor que você obteve do número de itens dentro da lista __frutas__ com o resultado de __len(frutas)__ !"
   ]
  },
  {
   "cell_type": "code",
   "execution_count": null,
   "metadata": {
    "collapsed": false
   },
   "outputs": [],
   "source": []
  },
  {
   "cell_type": "markdown",
   "metadata": {},
   "source": [
    "## Ordenando listas\n",
    "\n",
    "> __Como já discutido, tudo em Python é objeto e objetos tem métodos associados que operam com a instância em questão !!! __\n",
    "\n",
    "Assim, listas são objetos e objetos dentre outras coisas oferecem métodos (funções) para interagir com eles. Esses métodos são acessados pelo operador \".\" logo após o nome do objeto.\n",
    "\n",
    "> Uma das vantagens de estar utilizando o IPython é que ele te ajuda sempre que você precisar saber quais métodos estão disponíveis para cada variável. Para descobrir basta digitar o nome da variável, adicionar o \".\" e então apertar \"TAB\" !\n",
    "\n",
    "Vamos agora imprimir a lista frutas em ordem crescente e depois, em ordem decrescente."
   ]
  },
  {
   "cell_type": "markdown",
   "metadata": {},
   "source": [
    " - Imprima a lista __frutas__"
   ]
  },
  {
   "cell_type": "code",
   "execution_count": null,
   "metadata": {
    "collapsed": false
   },
   "outputs": [],
   "source": []
  },
  {
   "cell_type": "markdown",
   "metadata": {},
   "source": [
    " - Utilize o método __sort()__ do objeto lista para ordená-lo e depois, imprima o resultado"
   ]
  },
  {
   "cell_type": "code",
   "execution_count": null,
   "metadata": {
    "collapsed": false
   },
   "outputs": [],
   "source": []
  },
  {
   "cell_type": "markdown",
   "metadata": {},
   "source": [
    " - Coloque o mouse sobre a palavra \"sort\" na linha de comando acima e aperte SHIFT+TAB. Leia a ajuda mostrada e descubra como inverter a ordem de ordenação da lista frutas. Depois de ordená-la inversamente, imprima novamente o resultado para conferir."
   ]
  },
  {
   "cell_type": "code",
   "execution_count": null,
   "metadata": {
    "collapsed": false
   },
   "outputs": [],
   "source": []
  },
  {
   "cell_type": "markdown",
   "metadata": {},
   "source": [
    "> Um outro método que é bastante útil quando estamos lidando com listas é a capacidade de reverter a ordem dos elementos na lista. Para isso, utilize o comando __reverse()__. Dessa forma, um modo mais custoso de se ordenar de forma inversa a lista é utilizar o comando __sort()__ sem opções nenhuma e logo após, aplicar o comando __reverse()__.\n",
    "\n",
    "> Tanto o __sort__ quanto o __reverse__ são operadores **INPLACE** !!!!\n"
   ]
  },
  {
   "cell_type": "markdown",
   "metadata": {},
   "source": [
    "## Adicionando elementos\n",
    "\n",
    "Para adicionar elementos em uma lista você pode utilizar um dos seguintes métodos:\n",
    "\n",
    " * __insert__ - insere um elemento em uma posição específica\n",
    " * __append__ - insere um elemento no final da lista\n",
    " * __extend__ - insere todos os elementos do elemento passado na lista atual\n",
    " * __+__      - permite somar duas listas, retornando uma terceira lista que é a união das duas\n",
    " \n",
    " Insira a palavra \"Jaca\" no final da lista, e a palavra \"Morango\" no início da lista, imprima o resultado e reordene  a lista novamente:"
   ]
  },
  {
   "cell_type": "code",
   "execution_count": null,
   "metadata": {
    "collapsed": false
   },
   "outputs": [],
   "source": []
  },
  {
   "cell_type": "markdown",
   "metadata": {},
   "source": [
    "## Buscando elementos em listas\n",
    "\n",
    "Para obter os elementos da lista existem dois métodos, um que retorna o índice do elemento e o outro, que conta o número de elementos na lista. Os métodos são:\n",
    "\n",
    " * index - Retorna o índice do elemento buscado\n",
    " * count - Conta o número de elementos da lista buscado\n",
    " \n",
    " Utilize a função index para obter a posição do valor \"abacaxi\""
   ]
  },
  {
   "cell_type": "code",
   "execution_count": null,
   "metadata": {
    "collapsed": false
   },
   "outputs": [],
   "source": []
  },
  {
   "cell_type": "markdown",
   "metadata": {},
   "source": [
    "Utilize a função __count()__ para contar quantas vezes a palavra abacaxi aparece na lista !"
   ]
  },
  {
   "cell_type": "code",
   "execution_count": null,
   "metadata": {
    "collapsed": false,
    "scrolled": true
   },
   "outputs": [],
   "source": []
  },
  {
   "cell_type": "markdown",
   "metadata": {},
   "source": [
    "\n",
    "## Removendo Elementos\n",
    "\n",
    "Para remover os elementos de uma lista você deve utilizar um dos métodos abaixo:\n",
    "\n",
    " * pop(INDEX) - Remove o elemento da lista na posição INDEX (por padrão assume INDEX = último elemento)\n",
    " * remove - Remove da lista o primeiro elemento encontrado que seja igual ao elemento passado\n",
    "\n",
    "Caso a palavra \"jaca\" esteja na lista, remova-a da lista, relatando para o usuário se a palavra foi removida ou não. Para testar se uma palavra esta em uma lista basta você utilizar o operador de comparação \"in\" já apresentado para vocês:"
   ]
  },
  {
   "cell_type": "code",
   "execution_count": null,
   "metadata": {
    "collapsed": false
   },
   "outputs": [],
   "source": []
  },
  {
   "cell_type": "markdown",
   "metadata": {},
   "source": [
    "O segundo método de remover os elementos da lista é utilizando o método __pop()__. Este método por padrão retorna o último item da lista (inverso do método __append()__). Este método quando utilizado em conjunto com o laço __while__ permite iteragir por todos os elementos de uma lista processando um a um ! Tente você mesmo!\n",
    "\n",
    "Utilize um laço __while__ onde a condição do laço é a lista, isto é faça:\n",
    "\n",
    "```Python\n",
    "while frutas:\n",
    "```\n",
    "\n",
    "dentro do laço, utilize a função __pop()__ para obter o último elemento da lista, e dai, imprima a lista para ver\n",
    "que o elemento foi efetivamente removido da lista. A cada iteração a lista deve perder um elemento !"
   ]
  },
  {
   "cell_type": "code",
   "execution_count": null,
   "metadata": {
    "collapsed": false
   },
   "outputs": [],
   "source": []
  },
  {
   "cell_type": "markdown",
   "metadata": {},
   "source": [
    "> Atenção, lembre-se que o notebook é um programa sequencial, logo, se você rodar uma vez o código a variável frutas vai ficar vazia ! Ainda, para reinicializá-la utilize o menu acima Cell -> Run all Above !\n",
    "\n",
    "Uma forma alternativa de remover um elementos de uma lista é utilizando o comando __del__. Você pode usar ele em um elemento específico da lista, ou na lista toda. Este comando também pode ser utilizado em outras variáveis !!"
   ]
  },
  {
   "cell_type": "markdown",
   "metadata": {},
   "source": [
    "Por fim, para modificar um item de uma lista, basta você sobrescrevê-lo !!!"
   ]
  },
  {
   "cell_type": "markdown",
   "metadata": {},
   "source": [
    "## Texto como listas\n",
    "\n",
    "No Python as variáveis do tipo texto são como listas de caracteres. Muitas das funções mostradas acima funcionam com as variáveis de texto !"
   ]
  },
  {
   "cell_type": "code",
   "execution_count": null,
   "metadata": {
    "collapsed": false
   },
   "outputs": [],
   "source": [
    "text = \"marcelo marmelo martelo\""
   ]
  },
  {
   "cell_type": "markdown",
   "metadata": {},
   "source": [
    "Ache a posição do primeiro espaço na variável __text__"
   ]
  },
  {
   "cell_type": "code",
   "execution_count": null,
   "metadata": {
    "collapsed": false
   },
   "outputs": [],
   "source": []
  },
  {
   "cell_type": "markdown",
   "metadata": {},
   "source": [
    "Imprima a primeira palavra \"marcelo\" utilizando o comando de sub lista __[a:b]__"
   ]
  },
  {
   "cell_type": "code",
   "execution_count": null,
   "metadata": {
    "collapsed": false
   },
   "outputs": [],
   "source": []
  },
  {
   "cell_type": "markdown",
   "metadata": {},
   "source": [
    "Imprima o número de caracteres na lista com o comando __len()__"
   ]
  },
  {
   "cell_type": "code",
   "execution_count": null,
   "metadata": {
    "collapsed": false
   },
   "outputs": [],
   "source": []
  },
  {
   "cell_type": "markdown",
   "metadata": {},
   "source": [
    "Imprima quantas vezes cada vogal aparece na variável __text__"
   ]
  },
  {
   "cell_type": "code",
   "execution_count": null,
   "metadata": {
    "collapsed": false
   },
   "outputs": [],
   "source": []
  },
  {
   "cell_type": "markdown",
   "metadata": {},
   "source": [
    "## Comando str.replace, str.split & str.join\n",
    "\n",
    "Os comandos mais utilizados quando estamos lidando com texto em Python são os comandos __replace__, __split__ e __join__.\n",
    "\n",
    "O comando __replace__, como o próprio nome diz aplica uma substituição em uma string de texto trocando um texto por outro em toda a __string__ !\n",
    "\n",
    "Use o comando __replace__ para substituir a palavra \"marcelo\" pelo seu nome !"
   ]
  },
  {
   "cell_type": "code",
   "execution_count": null,
   "metadata": {
    "collapsed": false
   },
   "outputs": [],
   "source": []
  },
  {
   "cell_type": "markdown",
   "metadata": {},
   "source": [
    "Perguntas para refletir:\n",
    "\n",
    " 1. A variável original for modificada i.e. o comando executou INPLACE ??\n",
    " 2. O que acontece com a memória utilizada pelo interpretador Python quanto você executa o comando __replace__ no seu programa ?"
   ]
  },
  {
   "cell_type": "markdown",
   "metadata": {},
   "source": [
    "Utilize agora o comando __split()__ para separar a string dada na variável __text__ pelo caractere ' ' (espaço). Atribua o resultado da operação na variável __palavras__ !"
   ]
  },
  {
   "cell_type": "code",
   "execution_count": null,
   "metadata": {
    "collapsed": false
   },
   "outputs": [],
   "source": []
  },
  {
   "cell_type": "markdown",
   "metadata": {},
   "source": [
    "Qual o tipo da variável __palavras__?"
   ]
  },
  {
   "cell_type": "code",
   "execution_count": null,
   "metadata": {
    "collapsed": false
   },
   "outputs": [],
   "source": []
  },
  {
   "cell_type": "markdown",
   "metadata": {},
   "source": [
    "Agora, use o método __join()__ do tipo string, para unir as palavras separadas anteriormente por virgulas (não esqueça do espaço depois da vírgula !!"
   ]
  },
  {
   "cell_type": "code",
   "execution_count": null,
   "metadata": {
    "collapsed": false
   },
   "outputs": [],
   "source": []
  }
 ],
 "metadata": {
  "kernelspec": {
   "display_name": "Python 2",
   "language": "python",
   "name": "python2"
  },
  "language_info": {
   "codemirror_mode": {
    "name": "ipython",
    "version": 2
   },
   "file_extension": ".py",
   "mimetype": "text/x-python",
   "name": "python",
   "nbconvert_exporter": "python",
   "pygments_lexer": "ipython2",
   "version": "2.7.11"
  }
 },
 "nbformat": 4,
 "nbformat_minor": 0
}

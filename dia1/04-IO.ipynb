{
 "cells": [
  {
   "cell_type": "code",
   "execution_count": null,
   "metadata": {
    "collapsed": true
   },
   "outputs": [],
   "source": [
    "from __future__ import division, print_function"
   ]
  },
  {
   "cell_type": "markdown",
   "metadata": {
    "collapsed": true
   },
   "source": [
    "# IO básico em Python\n",
    "\n",
    "O IO mais básico em Python é o IO direto, utilizando o método __open()__. Este método abre um arquivo retornando um objeto que se comporta como um iterador no arquivo permitindo que a leitura seja feita por linhas ou de forma integral !\n",
    "\n",
    "Abra o arquivo \"data.csv\" contido neste mesmo diretório. Use o método __type()__ para inspecionar o tipo do objeto retornado pelo método __open()__. Imprima o objeto aberto."
   ]
  },
  {
   "cell_type": "code",
   "execution_count": null,
   "metadata": {
    "collapsed": false,
    "scrolled": true
   },
   "outputs": [],
   "source": []
  },
  {
   "cell_type": "markdown",
   "metadata": {},
   "source": [
    "Utilize o método __read()__ do arquivo aberto para ler o arquivo para uma variável, determine o seu tipo e imprima a variável para a tela usando o comando __print()__ !"
   ]
  },
  {
   "cell_type": "code",
   "execution_count": null,
   "metadata": {
    "collapsed": false,
    "scrolled": true
   },
   "outputs": [],
   "source": []
  },
  {
   "cell_type": "markdown",
   "metadata": {},
   "source": [
    "Depois de lido, utilize o comando \"close()\" para fechar o arquivo"
   ]
  },
  {
   "cell_type": "code",
   "execution_count": null,
   "metadata": {
    "collapsed": true
   },
   "outputs": [],
   "source": []
  },
  {
   "cell_type": "markdown",
   "metadata": {},
   "source": [
    "Como visto, o processo de leitura de um arquivo sempre deve envolver o __close__ ao final ! Uma forma de otimizar isso é utilizando uma construção com __with__ onde o arquivo é aberto, os comandos executados e o arquivo será fechado automaticamente.\n",
    "\n",
    "A sintaxe do __with__ para operar com o __open()__ é a seguinte:\n",
    "\n",
    "```Python\n",
    "with open(FILENAME) as VAR:\n",
    "    cmd1\n",
    "    cmd2\n",
    "    cmd3\n",
    "```\n",
    "\n",
    "Leia o arquivo utilizando agora o __with__ e o comando __read__:"
   ]
  },
  {
   "cell_type": "code",
   "execution_count": null,
   "metadata": {
    "collapsed": false
   },
   "outputs": [],
   "source": []
  },
  {
   "cell_type": "markdown",
   "metadata": {},
   "source": [
    "Como observado o método __read()__ lê todo o arquivo para a variável o que para arquivos muito grandes pode consumir uma vasta quantidade de memória.\n",
    "\n",
    "Uma alternativa é então ler o arquivo por linhas, utilizando o método __readline()__, ou então limitar o número de bytes lidos passando um argumento para o comando __read()__. Esses dois modos tem um inconveniente já que não retornam erro quando o final do arquivo é atingido.\n",
    "\n",
    "Um modo mais elegante de se ler um arquivo texto em Python é simplesmente utilizar o arquivo dentro de um laço __for__, que irá iterar por cada linha do arquivo a ser processado !\n",
    "\n",
    "Abra o arquivo utilizando o __with__ e itere por suas linhas dentro de um laço __for__ imprimindo apenas as linhas de comentário (linhas que iniciam pelo símbolo \"#\") deste arquivo:"
   ]
  },
  {
   "cell_type": "code",
   "execution_count": null,
   "metadata": {
    "collapsed": false,
    "scrolled": true
   },
   "outputs": [],
   "source": []
  },
  {
   "cell_type": "markdown",
   "metadata": {},
   "source": [
    "Se você prestou atenção as linhas impressas pode observar que ao ler as linhas o Python lê também o ENTER (\\n) da linha e ao imprimir as linhas de comentário cada linha tem um ENTER a mais. Para remover essa sujeira ao final das linhas você pode utilizar um método do objeto __string__ chamado de __strip()__. \n",
    "\n",
    "> O método __strip()__ por padrão remove os caracteres não imprimíveis e espaços de uma __string__. Alternativamente você pode passar ao __strip()__ outros caracteres a serem removidos do início e final da linha sendo processada !\n",
    "\n",
    "Usando o método __strip()__ repita agora o laço anterior suprimindo assim o ENTER no final de cada linha,"
   ]
  },
  {
   "cell_type": "code",
   "execution_count": null,
   "metadata": {
    "collapsed": false,
    "scrolled": false
   },
   "outputs": [],
   "source": []
  },
  {
   "cell_type": "markdown",
   "metadata": {},
   "source": [
    "> Alternativamente ao laço utilizando o __for__ é possível também chamar o método __readlines()__ (note o \"s\" ao final do método) que funciona como o __read()__ mas retorna todas as linhas como uma __lista__ de strings !"
   ]
  },
  {
   "cell_type": "markdown",
   "metadata": {},
   "source": [
    "## Lendo o CSV \n",
    "\n",
    "Leia o arquivo CSV dado para uma lista de dicionários onde os campos do dicionário vão ser lidos da descrição do CSV. Siga os seguintes paços:\n",
    "\n",
    " 1. Abra o arquivo com o __with__\n",
    " 2. Crie uma variável (*dk*) para armazenar a lista de campos no CSV, inicialize ela com __None__\n",
    " 3. Cria uma variável (*csv*) que irá armazenar os dicionários e inicialize ela com uma lista vazia\n",
    " 4. Utilize um laço __for__ para iterar pelas linhas do arquivo em uma variável (*l*)\n",
    " 5. Com as linhas (*l*) faça:\n",
    "   1. Descarte as linhas que são comentários\n",
    "   2. Teste se você já leu os campos do arquivo (i.e. que a variável *dk* não é __None__), caso contrário use o método __l.split(\",\")__ para obter cada um dos campos da linha lida e use  o comando __continue__ para seguir para a próxima linha no arquivo.\n",
    "   > Não esqueça de antes de separar os campos de descartar o ENTER no final da linha. Você pode concatenar os métodos __l.strip().split(\",\")__ para executá-los todos em uma linha de comando só !\n",
    "   3. Agora sim, se você chegou neste ponto, isto é *dk* != None, leia a linha com os valores. Use novamente o strip + spit para ler agora os dados, e adicioná-los em uma lista.\n",
    "   4. Use o método __zip()__ para criar uma lista de tuplas a partir da lista de chaves (*dk*) e da lista de valores__vks =  zip(dk,items)__\n",
    "   > O método __zip()__, funciona como se fosse um zipper, unindo elementos de uma ou mais listas em listas de tuplas !\n",
    "    5. crie um dicionário a partir da lista de tuplas: __dict(vks)__\n",
    "    6. Adicione o dicionário criado na lista *csv* criada ! \n",
    " 6. Ao terminar o laço, imprima a lista criada !\n",
    " \n"
   ]
  },
  {
   "cell_type": "code",
   "execution_count": null,
   "metadata": {
    "collapsed": false,
    "scrolled": true
   },
   "outputs": [],
   "source": []
  },
  {
   "cell_type": "markdown",
   "metadata": {},
   "source": [
    "## Escrevendo para arquivo\n",
    "\n",
    "Para escrever para um arquivo é necessário abri-lo em modo de escrita, para isto é necessário adicionar a opção \"w\" no método open !\n",
    "\n",
    "Abra um novo arquivo em modo de leitura:"
   ]
  },
  {
   "cell_type": "code",
   "execution_count": null,
   "metadata": {
    "collapsed": true,
    "scrolled": true
   },
   "outputs": [],
   "source": []
  },
  {
   "cell_type": "markdown",
   "metadata": {},
   "source": [
    "Neste ponto você pode utilizar os comandos:\n",
    "\n",
    " * __write()__\n",
    " * __writelines()__\n",
    "\n",
    "para escrever para o arquivo aberto.\n",
    "\n",
    "Experimente escrever para o arquivo aberto os dados do arquivo CSV lido, separado por ponto-e-vírgula !"
   ]
  },
  {
   "cell_type": "code",
   "execution_count": null,
   "metadata": {
    "collapsed": false,
    "scrolled": true
   },
   "outputs": [],
   "source": []
  },
  {
   "cell_type": "markdown",
   "metadata": {},
   "source": [
    "Para finalizar, feche o arquivo aberto !"
   ]
  },
  {
   "cell_type": "code",
   "execution_count": null,
   "metadata": {
    "collapsed": true,
    "scrolled": true
   },
   "outputs": [],
   "source": []
  }
 ],
 "metadata": {
  "kernelspec": {
   "display_name": "Python 2",
   "language": "python",
   "name": "python2"
  },
  "language_info": {
   "codemirror_mode": {
    "name": "ipython",
    "version": 2
   },
   "file_extension": ".py",
   "mimetype": "text/x-python",
   "name": "python",
   "nbconvert_exporter": "python",
   "pygments_lexer": "ipython2",
   "version": "2.7.11"
  }
 },
 "nbformat": 4,
 "nbformat_minor": 0
}

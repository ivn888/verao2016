{
 "cells": [
  {
   "cell_type": "code",
   "execution_count": null,
   "metadata": {
    "collapsed": true
   },
   "outputs": [],
   "source": [
    "from __future__ import division, print_function"
   ]
  },
  {
   "cell_type": "markdown",
   "metadata": {},
   "source": [
    "\n",
    "# Funções & Geradores em Python\n",
    "\n",
    "O Python oferece diversas ferramentas para abstrair as tarefas que se deseja realizar sempre visando:\n",
    "\n",
    " 1. Clareza\n",
    " 2. Eficiência\n",
    " 3. Reaproveitamento de código\n",
    " 4. Flexibilidade\n",
    "\n",
    "A maneira mais natural de se abstrair um código é utilizando funções (também chamadas de métodos quando estão dentro de classes). É importante lembrar que função abstraem tarefas. Em Python, o uso de geradores pode ainda economizar a quantidade de memória utilizada pelo programa.\n",
    "\n",
    "considere a seguinte expressão polinomial:\n",
    "\n",
    "$$ f(x) = ax^2 + bx + c $$\n",
    "\n",
    "Queremos agora, escrever um código que calcula o valor de:\n",
    "\n",
    "$$ \\int_{x1}^{x2} f(x) dx $$\n",
    "\n",
    "pelo método dos trapézios. \n",
    "\n",
    "Este método indica que é possível obter o valor numérico da integral de *f* pela seguinte expressão:\n",
    "\n",
    "$$ \\int_{x1}^{x2} f(x) dx  =\\Delta x \\cdot \\left[ \\frac{f(x1) + f(x2)}{2} +  \\sum_{n = 1}^{n-2} f(x1+n\\Delta x) \\right]$$\n",
    "\n",
    "onde a função *f* a ser integrada esta parametrizada com um intervalo de *dx = (x2-x1)/n-1*, ou seja contém um total de n pontos entre os valores *x1* e *x2* incluindo os extremos. Considere agora o seguinte código:"
   ]
  },
  {
   "cell_type": "code",
   "execution_count": null,
   "metadata": {
    "collapsed": false
   },
   "outputs": [],
   "source": [
    "# Initialize\n",
    "###################################\n",
    "x1 =  0.0\n",
    "x2 = 10.0\n",
    "dx =  0.1\n",
    "a  =  1.0\n",
    "b  =  0.0\n",
    "c  =  0.0\n",
    "\n",
    "# Init !\n",
    "###################################\n",
    "n = 0\n",
    "x = x1\n",
    "soma = 0.0\n",
    "\n",
    "# Generate & Integrate f(x) = x^2\n",
    "###################################\n",
    "soma = (a*x*x + b*x + c) / 2.0\n",
    "n = 1\n",
    "while x < x2:\n",
    "    x  = x1 + n * dx\n",
    "    soma += (a*x*x+b*x+c)\n",
    "    n += 1\n",
    "soma -= (a*x*x + b*x + c) / 2.0\n",
    "\n",
    "# Results\n",
    "#################################\n",
    "print(\"Integral of XX from %f to %f using a dx= %f is equal to = %f\" % (x1, x2, dx, dx * soma))"
   ]
  },
  {
   "cell_type": "markdown",
   "metadata": {},
   "source": [
    "Separe o código acima em duas funções independentes, uma para calcular a integral e outra, para calcular a função a ser integrada, tarefas que neste código estão misturadas.\n",
    "\n",
    "Neste ponto é importante considerar um pouco os fatores de acoplamento entre as duas funções:\n",
    " \n",
    " * A função que gera os valores precisa de x1, x2 e dx além dos parâmetros a, b e c do polinômio,\n",
    " * A função que faz a integração precisa dos valores da função mais o valor de dx ou valores de x, não precisando saber como efetivamente gerar os pontos !\n",
    " * A função de integração precisa ver os pontos de f(x) apenas uma vez"
   ]
  },
  {
   "cell_type": "code",
   "execution_count": null,
   "metadata": {
    "collapsed": false
   },
   "outputs": [],
   "source": []
  },
  {
   "cell_type": "markdown",
   "metadata": {},
   "source": [
    "Observando o código que você escreveu observe:\n",
    "\n",
    " 1. O método que implementa a integração gera algum valor da função?\n",
    " 2. Com a diminuição de *dx* o seu código usa + memória ?\n",
    " 3. Você utilizou em algum momento do seu código os [ ] para acessar uma posição de algum vetor ?\n",
    " 4. Se você tiver que implementar uma nova função *g(x)* ou mudar o dx utilizado vai ser necessário alterar o método que realiza a integração ?\n",
    "\n",
    "> Se foi possível isolar de forma correta os códigos deve ter respondido não para todas as perguntas anteriores !!!"
   ]
  }
 ],
 "metadata": {
  "kernelspec": {
   "display_name": "Python 2",
   "language": "python",
   "name": "python2"
  },
  "language_info": {
   "codemirror_mode": {
    "name": "ipython",
    "version": 2
   },
   "file_extension": ".py",
   "mimetype": "text/x-python",
   "name": "python",
   "nbconvert_exporter": "python",
   "pygments_lexer": "ipython2",
   "version": "2.7.11"
  }
 },
 "nbformat": 4,
 "nbformat_minor": 0
}

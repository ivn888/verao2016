{
 "cells": [
  {
   "cell_type": "code",
   "execution_count": null,
   "metadata": {
    "collapsed": true
   },
   "outputs": [],
   "source": [
    "from __future__ import division, print_function"
   ]
  },
  {
   "cell_type": "markdown",
   "metadata": {},
   "source": [
    "# Tuplas\n",
    "\n",
    "\n",
    "Como já comentado tuplas são listas imutáveis. Por imutáveis isso implica que depois de criadas é impossível modificá-las, adicionando um item ou removendo um item. Sempre que isso acontecer você pode ter certeza que criou uma nova tupla !\n",
    "\n",
    "Crie duas tuplas, uma com um item e uma com três itens, a seguir, imprima as tuplas criadas e depois o seu tamanho usando o comando __len()__ !"
   ]
  },
  {
   "cell_type": "code",
   "execution_count": null,
   "metadata": {
    "collapsed": false
   },
   "outputs": [],
   "source": []
  },
  {
   "cell_type": "markdown",
   "metadata": {},
   "source": [
    "Tente alterar o segundo valor da tupla de três itens:"
   ]
  },
  {
   "cell_type": "code",
   "execution_count": null,
   "metadata": {
    "collapsed": false
   },
   "outputs": [],
   "source": []
  },
  {
   "cell_type": "markdown",
   "metadata": {},
   "source": [
    "Some as duas tuplas gerando uma outra tupla com 4 valores:"
   ]
  },
  {
   "cell_type": "code",
   "execution_count": null,
   "metadata": {
    "collapsed": false
   },
   "outputs": [],
   "source": []
  },
  {
   "cell_type": "markdown",
   "metadata": {},
   "source": [
    "Utilize a tupla com três itens dentro de um laço __for__ e veja que ela funciona exatamente como uma __lista__:"
   ]
  },
  {
   "cell_type": "code",
   "execution_count": null,
   "metadata": {
    "collapsed": false
   },
   "outputs": [],
   "source": []
  },
  {
   "cell_type": "markdown",
   "metadata": {},
   "source": [
    "Obtenha o segundo e terceiro elemento da tupla como feito com as listas:"
   ]
  },
  {
   "cell_type": "code",
   "execution_count": null,
   "metadata": {
    "collapsed": false
   },
   "outputs": [],
   "source": []
  },
  {
   "cell_type": "markdown",
   "metadata": {},
   "source": [
    "O processo inverso de criar a tupla pode ser feito para atribuir os seus valores a variáveis independentes. Isso se chama \"desempacotamento\". Faça o desempacotamento das tuplas atribuindo a tupla a diversas variáveis separadas por \",\""
   ]
  },
  {
   "cell_type": "code",
   "execution_count": null,
   "metadata": {
    "collapsed": false
   },
   "outputs": [],
   "source": []
  },
  {
   "cell_type": "markdown",
   "metadata": {},
   "source": [
    "## Substituição de variáveis em __string__ utilizando o *%*\n",
    "\n",
    "O operador *%* como vimos aplica uma série de variáveis a uma string de formato. Até agora, o que vimos foi que \n",
    "\n",
    "``` Python\n",
    "\"%s\" % VAR\n",
    "```\n",
    "\n",
    "substitui o valor da variável VAR no %s, mas na verdade após o *%* é esperada uma __tupla__ para que sejam substituídos diversos valores dentro de uma mesma __string__ de formato. O elegante é que uma tupla com *Um* elemento é praticamente um valor único, como feito até o momento.\n",
    "\n",
    "> Ainda, além de utilizar apenas %s, você pode utilizar %d, %f e %e para formatar o número como normalmente utilizado em C. Você ainda pode indicar o número de campos a ser utilizado na impressão e mesmo, o alinhamento com o sinal do *-* antes do número !\n",
    "\n",
    "Agora, faça um __print__ para imprimir a sua tupla de três posições utilizando a substituição adequada (com 3 indicações de %s)!"
   ]
  },
  {
   "cell_type": "code",
   "execution_count": null,
   "metadata": {
    "collapsed": false
   },
   "outputs": [],
   "source": []
  },
  {
   "cell_type": "markdown",
   "metadata": {},
   "source": [
    "Pergunta:\n",
    "\n",
    " 1. O que acontece se o número de elementos na tupla não for compatível com o número de %'s no __string__ de formato ?"
   ]
  },
  {
   "cell_type": "markdown",
   "metadata": {},
   "source": [
    "Por fim, descubra quais os métodos que o objeto tupla oferece para serem utilizados escrevendo o nome de uma das tuplas, adicionando o \".\" e então pressionando o \"TAB\" !!"
   ]
  },
  {
   "cell_type": "code",
   "execution_count": null,
   "metadata": {
    "collapsed": false
   },
   "outputs": [],
   "source": []
  }
 ],
 "metadata": {
  "kernelspec": {
   "display_name": "Python 2",
   "language": "python",
   "name": "python2"
  },
  "language_info": {
   "codemirror_mode": {
    "name": "ipython",
    "version": 2
   },
   "file_extension": ".py",
   "mimetype": "text/x-python",
   "name": "python",
   "nbconvert_exporter": "python",
   "pygments_lexer": "ipython2",
   "version": "2.7.11"
  }
 },
 "nbformat": 4,
 "nbformat_minor": 0
}

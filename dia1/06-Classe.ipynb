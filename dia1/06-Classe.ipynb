{
 "cells": [
  {
   "cell_type": "code",
   "execution_count": null,
   "metadata": {
    "collapsed": true
   },
   "outputs": [],
   "source": [
    "from __future__ import division, print_function"
   ]
  },
  {
   "cell_type": "markdown",
   "metadata": {},
   "source": [
    "# Classes\n",
    "\n",
    "Neste workbook temos os exemplos discutidos em aula para vocês poderem interagir com eles para melhor compreender o conceito de programação orientada a objeto e como isso se desenvolve no Python. \n",
    "\n",
    "## Cor como propriedade"
   ]
  },
  {
   "cell_type": "code",
   "execution_count": null,
   "metadata": {
    "collapsed": false
   },
   "outputs": [],
   "source": [
    "class Rock(object):\n",
    "    def __init__(self, color):\n",
    "        self.color = color\n",
    "        \n",
    "    def report(self):\n",
    "        print(\"I am a rock !\")\n",
    "        print(\"My color is %s\" % self.color)"
   ]
  },
  {
   "cell_type": "code",
   "execution_count": null,
   "metadata": {
    "collapsed": false
   },
   "outputs": [],
   "source": [
    "granite = Rock(\"gray\")\n",
    "granite.report()\n",
    "\n",
    "basalt = Rock(\"black\")\n",
    "basalt.report()"
   ]
  },
  {
   "cell_type": "markdown",
   "metadata": {},
   "source": [
    "Tente:\n",
    " \n",
    " 1. Mude na instância \"granite\" o valor do atributo \"color\" e veja se a instância \"basalt\" o \"color\" foi alterado ?\n",
    " 2. Tente somar duas instâncias\n",
    " 3. Modifique o nome do atributo \"color\" para \"\\_color\" e tente modificá-lo novamente\n",
    " 4. Modifique agora para \"\\_\\_color\"\n",
    " 5. Verifique que classes são também atribuídas por referência\n",
    " 6. Use a função \"isinstance()\" para verificar se \"basalt\" é uma instância de \"Rock\""
   ]
  },
  {
   "cell_type": "markdown",
   "metadata": {},
   "source": [
    "## Cor como método & Mineral Class\n",
    "\n",
    "Estude o exemplo dado abaixo para compreender a relação das classes Mineral e Rock. Depois de compreender como isso foi feito implemente as seguintes **features** no código !\n",
    "\n",
    " 1. Implemente a propriedade *densidade* na classe Mineral,\n",
    " 2. Implemente a propriedade *densidade* na rocha como a média ponderada pela porcentagem da densidade de cada mineral,"
   ]
  },
  {
   "cell_type": "code",
   "execution_count": null,
   "metadata": {
    "collapsed": false
   },
   "outputs": [],
   "source": [
    "class Mineral(object):\n",
    "    def __init__(self, name, color):\n",
    "        self.name  = name\n",
    "        self.color = color\n",
    "\n",
    "class Rock(object):\n",
    "    def __init__(self):\n",
    "        self.minerals = { }\n",
    "        \n",
    "    def addMineral(self, mineral, perc):\n",
    "        if mineral.name in self.minerals:\n",
    "            raise Exception(\"Error !\")\n",
    "        self.minerals[mineral.name] = (mineral, perc)\n",
    "    \n",
    "    def color(self):\n",
    "        color = None\n",
    "        maxp = 0\n",
    "        for m,p in self.minerals.itervalues():\n",
    "            if p > maxp:\n",
    "                color = m.color\n",
    "                maxp = p\n",
    "        return color\n",
    "\n",
    "    def report(self):\n",
    "        print(\"I am a rock !\")\n",
    "        print(\"I have %d minerals, to know: %s\" % (len(self.minerals), self.minerals.keys()))\n",
    "        print(\"My color is %s\" % self.color())"
   ]
  },
  {
   "cell_type": "code",
   "execution_count": null,
   "metadata": {
    "collapsed": false
   },
   "outputs": [],
   "source": [
    "nr = Rock()\n",
    "nr.addMineral(Mineral(\"quartz\", \"white\"), 80)\n",
    "nr.addMineral(Mineral(\"mica\", \"brightyellow\"), 10)\n",
    "nr.addMineral(Mineral(\"feldspar\", \"yellow\"), 10)"
   ]
  },
  {
   "cell_type": "code",
   "execution_count": null,
   "metadata": {
    "collapsed": false,
    "scrolled": true
   },
   "outputs": [],
   "source": [
    "nr.report()"
   ]
  },
  {
   "cell_type": "markdown",
   "metadata": {},
   "source": [
    "## Para pensar em casa\n",
    "\n",
    "Leia a documentação sobre o Python Data Model. Ele discute muitos dos mecanismos utilizados pelo Python para suportar \"operation overload\" e mesmo como lidar de forma mais genéricas com classes.\n",
    "\n",
    "https://docs.python.org/2/reference/datamodel.html\n",
    "\n",
    "Depois tente implementar o operador \"+\" e \"*\" na classes `Mineral` apresentada acima de forma que eu consiga construir uma Rocha com a seguinte expressão:\n",
    "\n",
    "```Python\n",
    "qtz = Mineral(\"quartz\", \"white\")\n",
    "mca = Mineral(\"mica\", \"brightyellow\")\n",
    "fds = Mineral(\"feldspar\", \"yellow\")\n",
    "\n",
    "granite = 80 * qtz + 5 * mca + 15 * fds\n",
    "```"
   ]
  },
  {
   "cell_type": "code",
   "execution_count": null,
   "metadata": {
    "collapsed": true
   },
   "outputs": [],
   "source": []
  }
 ],
 "metadata": {
  "kernelspec": {
   "display_name": "Python 2",
   "language": "python",
   "name": "python2"
  },
  "language_info": {
   "codemirror_mode": {
    "name": "ipython",
    "version": 2
   },
   "file_extension": ".py",
   "mimetype": "text/x-python",
   "name": "python",
   "nbconvert_exporter": "python",
   "pygments_lexer": "ipython2",
   "version": "2.7.11"
  }
 },
 "nbformat": 4,
 "nbformat_minor": 0
}

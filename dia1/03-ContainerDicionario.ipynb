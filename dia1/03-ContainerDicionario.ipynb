{
 "cells": [
  {
   "cell_type": "code",
   "execution_count": null,
   "metadata": {
    "collapsed": true
   },
   "outputs": [],
   "source": [
    "from __future__ import division, print_function"
   ]
  },
  {
   "cell_type": "markdown",
   "metadata": {},
   "source": [
    "# Dicionários\n",
    "\n",
    "Como listas dicionários são objetos e tem métodos associados para executar algumas ações específicas. Uma forma de compreender dicionários são como se fossem listas desordenadas onde os índices podem ser qualquer variável !\n",
    "\n",
    "Para criar dicionários novamente basta utilizar o seu construtor ou o seu inicializador __{}__ ! Construa um dicionário vazio:"
   ]
  },
  {
   "cell_type": "code",
   "execution_count": null,
   "metadata": {
    "collapsed": true
   },
   "outputs": [],
   "source": []
  },
  {
   "cell_type": "markdown",
   "metadata": {},
   "source": [
    "Neste dicionário agora adicione um item, com a chave *frutas* e valor igual a lista de frutas *Abacaxi*, *Uva* e\n",
    "*Laranja*, a seguir adicione um segundo item com chave *legumes* e valores *batata*, *cenoura* e *beterraba*. A seguir imprima a variável criada com o comando __print__ !\n",
    "\n",
    "> Para adicionar um item em um dicionário basta você inicializar ele com `var[chave] = valor`"
   ]
  },
  {
   "cell_type": "code",
   "execution_count": null,
   "metadata": {
    "collapsed": false
   },
   "outputs": [],
   "source": []
  },
  {
   "cell_type": "markdown",
   "metadata": {},
   "source": [
    " * Imprima o número de itens no dicionário !"
   ]
  },
  {
   "cell_type": "code",
   "execution_count": null,
   "metadata": {
    "collapsed": false
   },
   "outputs": [],
   "source": []
  },
  {
   "cell_type": "markdown",
   "metadata": {},
   "source": [
    " * Utilize os []'s para obter o conteúdo do dicionário com a chave \"legumes\":"
   ]
  },
  {
   "cell_type": "code",
   "execution_count": null,
   "metadata": {
    "collapsed": false
   },
   "outputs": [],
   "source": []
  },
  {
   "cell_type": "markdown",
   "metadata": {},
   "source": [
    " * Utilize agora o dicionário em um laço __for__ e veja o que acontece:"
   ]
  },
  {
   "cell_type": "code",
   "execution_count": null,
   "metadata": {
    "collapsed": false,
    "scrolled": true
   },
   "outputs": [],
   "source": []
  },
  {
   "cell_type": "markdown",
   "metadata": {},
   "source": [
    "Utilize um laço __for__ para imprimir o conteúdo do dicionário da seguinte forma, isto é:\n",
    "\n",
    "```\n",
    "secao:\n",
    " item \n",
    " ...\n",
    "secao:\n",
    " item\n",
    " ...\n",
    "```"
   ]
  },
  {
   "cell_type": "code",
   "execution_count": null,
   "metadata": {
    "collapsed": false
   },
   "outputs": [],
   "source": []
  },
  {
   "cell_type": "markdown",
   "metadata": {},
   "source": [
    "Verifique se o dicionário contém a chave \"verduras\"? Utilize o método __has_key()__, em uma primeira tentativa, e depois, utilize o operador **in**:"
   ]
  },
  {
   "cell_type": "code",
   "execution_count": null,
   "metadata": {
    "collapsed": false,
    "scrolled": true
   },
   "outputs": [],
   "source": []
  },
  {
   "cell_type": "markdown",
   "metadata": {},
   "source": [
    "Uma outra forma de compreender um dicionário é como se dentro dele existi-se duas listas, uma com as chaves e outra com os valores das chaves sendo que as duas listas estão correlacionadas !!\n",
    "\n",
    "Utilize os métodos __keys()__ e __values()__ para obter as duas listas internas do dicionário. Inspecione os seus tipos e valores:"
   ]
  },
  {
   "cell_type": "code",
   "execution_count": null,
   "metadata": {
    "collapsed": false
   },
   "outputs": [],
   "source": []
  },
  {
   "cell_type": "markdown",
   "metadata": {},
   "source": [
    "De forma análoga as funções __keys()__ e __values()__ é possível obter de forma combinada as duas informações na forma de uma lista de  tuplas utilizando o comando __items()__. Teste o comando __items()__ verificando o seu tipo e estrutura !"
   ]
  },
  {
   "cell_type": "code",
   "execution_count": null,
   "metadata": {
    "collapsed": false
   },
   "outputs": [],
   "source": []
  },
  {
   "cell_type": "markdown",
   "metadata": {},
   "source": [
    "Aplicando o que você aprendeu sobre listas e tuplas você consegue agora montar um laço utilizando o __for__ para iterar por um dicionário utilizando o método __items()__ ? \n",
    "\n",
    "> Lembre-se do conceito de desempacotamento de tuplas !"
   ]
  },
  {
   "cell_type": "code",
   "execution_count": null,
   "metadata": {
    "collapsed": false
   },
   "outputs": [],
   "source": []
  },
  {
   "cell_type": "markdown",
   "metadata": {},
   "source": [
    "Indo além, como você poderia fazer agora para imprimir o dicionário em ordem alfabética de chaves ?"
   ]
  },
  {
   "cell_type": "code",
   "execution_count": null,
   "metadata": {
    "collapsed": false
   },
   "outputs": [],
   "source": []
  },
  {
   "cell_type": "markdown",
   "metadata": {},
   "source": [
    "## Iteradores:\n",
    "\n",
    "Um outro modo de iterar por um dicionário é utilizando os métodos:\n",
    "    \n",
    " * iterkeys()\n",
    " * itervalues()\n",
    " * iteritems()\n",
    "\n",
    "Que tipo de variáveis retornam estes métodos?"
   ]
  },
  {
   "cell_type": "code",
   "execution_count": null,
   "metadata": {
    "collapsed": false
   },
   "outputs": [],
   "source": []
  },
  {
   "cell_type": "markdown",
   "metadata": {},
   "source": [
    "Salve o iterador para chaves (*iterkeys()*) em uma variável, e utilizando o comando __help()__ ou o \"TAB\" descubra qual o único método público que ele oferece?\n",
    "\n",
    "> Métodos públicos são métodos que não começam com \"_\" ou \"__\" "
   ]
  },
  {
   "cell_type": "code",
   "execution_count": null,
   "metadata": {
    "collapsed": false
   },
   "outputs": [],
   "source": []
  },
  {
   "cell_type": "markdown",
   "metadata": {},
   "source": [
    "Teste o método descoberto tentando executar ele !"
   ]
  },
  {
   "cell_type": "code",
   "execution_count": null,
   "metadata": {
    "collapsed": false
   },
   "outputs": [],
   "source": []
  },
  {
   "cell_type": "markdown",
   "metadata": {},
   "source": [
    "Perguntas:\n",
    "\n",
    " 1. Qual o valor retornado pelo iterador cada vez que você chama o seu único método ?\n",
    " 2. O que acontece se você chamar o método mais de uma vez ?\n",
    " 3. Quantas vezes você pode chamar este método?\n",
    " 4. Os outros iteradores - __itervalues()__ e __iteritems()__ - se comportam do mesmo modo ? "
   ]
  },
  {
   "cell_type": "code",
   "execution_count": null,
   "metadata": {
    "collapsed": true
   },
   "outputs": [],
   "source": []
  },
  {
   "cell_type": "markdown",
   "metadata": {},
   "source": [
    "No Python 3.X, o método __next()__ dos iteradores vai se tornar oculto, e o seu valor deve ser obtido através da função interna do Python __next()__. Tente fazer:\n",
    "\n",
    "```Python\n",
    "next(ITERADOR)\n",
    "```\n",
    "\n",
    "Onde ITERADOR é um iterador"
   ]
  },
  {
   "cell_type": "code",
   "execution_count": null,
   "metadata": {
    "collapsed": false
   },
   "outputs": [],
   "source": []
  },
  {
   "cell_type": "markdown",
   "metadata": {},
   "source": [
    "Uma das maiores aplicações destes iteradores é serem utilizados em laços __for__ para iterar pelos items do dicionário sem realmente ter que alocar o espaço dos vetores retornados pelos métodos __values()__, __keys()__ e __items()__.\n",
    "\n",
    "Agora, utilize diretamente os métodos __iterkeys()__, __itervalues()__ e __iteritems()__ dentro de laços __for__:"
   ]
  },
  {
   "cell_type": "code",
   "execution_count": null,
   "metadata": {
    "collapsed": false
   },
   "outputs": [],
   "source": []
  },
  {
   "cell_type": "code",
   "execution_count": null,
   "metadata": {
    "collapsed": false
   },
   "outputs": [],
   "source": []
  },
  {
   "cell_type": "code",
   "execution_count": null,
   "metadata": {
    "collapsed": false
   },
   "outputs": [],
   "source": []
  },
  {
   "cell_type": "markdown",
   "metadata": {},
   "source": [
    "## Adicionando e Removendo Elementos\n",
    "\n",
    "Para adicionar elementos em um dicionário basta apenas atribuir um novo elemento a uma chave inexistente. Caso a chave já exista o conteúdo é então atualizado !\n",
    "\n",
    "Dicionários, podem ser também atualizados a partir de outros dicionários, para isso utilizamos o método __update()__.\n",
    "\n",
    "Crie um novo dicionário contendo a chave \"verduras\" com os valores \"alface, couve, acelga\""
   ]
  },
  {
   "cell_type": "code",
   "execution_count": null,
   "metadata": {
    "collapsed": true
   },
   "outputs": [],
   "source": []
  },
  {
   "cell_type": "markdown",
   "metadata": {},
   "source": [
    "Agora, utilize o método __update()__ deste novo dicionário para adicionar os items do dicionário definido no começo do notebook dentro dele:"
   ]
  },
  {
   "cell_type": "code",
   "execution_count": null,
   "metadata": {
    "collapsed": false
   },
   "outputs": [],
   "source": []
  },
  {
   "cell_type": "markdown",
   "metadata": {},
   "source": [
    "Para remover um item do dicionário, é possível utilizar o método __pop(CHAVE)__ ou __popitem(CHAVE)__, que irá remover o item do dicionário, retornando o seu valor ou a tupla (chave, valor) respectivamente.\n",
    "\n",
    "Teste o método __pop()__ para remover a chave \"verduras\" dada anteriormente:"
   ]
  },
  {
   "cell_type": "code",
   "execution_count": null,
   "metadata": {
    "collapsed": false,
    "scrolled": true
   },
   "outputs": [],
   "source": []
  },
  {
   "cell_type": "markdown",
   "metadata": {},
   "source": [
    "> Da mesma forma como para listas, é possível também apagar um item do dicionário utilizando o comando __del__ !\n",
    " \n",
    "Com o comando __pop()__ ou __popitem()__ é também possível iterar um dicionário com o laço __while__, da mesma forma como feito com a lista, lembrando que a ordem dos elementos do dicionário não é especificada "
   ]
  },
  {
   "cell_type": "code",
   "execution_count": null,
   "metadata": {
    "collapsed": false
   },
   "outputs": [],
   "source": []
  },
  {
   "cell_type": "markdown",
   "metadata": {},
   "source": [
    "## Atribuição por referência ou valor\n",
    "\n",
    "Teste que como tudo em Python ele é passado por referência, e ao ser atribuído por referência a uma outra variável você apenas cria uma nova referência à mesma instância original do dicionário logo, ao modificar uma instância, você modifica as duas !\n",
    "\n",
    "Para testar isso, crie um dicionário inicializando ele com um valor, atribua ele a uma nova variável e então modifique o valor do dicionário para uma determinada chave. Imprima a variável original e confira se o valor foi modificado também na variável original !"
   ]
  },
  {
   "cell_type": "code",
   "execution_count": null,
   "metadata": {
    "collapsed": false
   },
   "outputs": [],
   "source": []
  },
  {
   "cell_type": "markdown",
   "metadata": {},
   "source": [
    "Faça o mesmo com uma variável do tipo __lista__"
   ]
  },
  {
   "cell_type": "code",
   "execution_count": null,
   "metadata": {
    "collapsed": false
   },
   "outputs": [],
   "source": []
  },
  {
   "cell_type": "markdown",
   "metadata": {
    "collapsed": true
   },
   "source": [
    "Uma outra forma de testar se duas variáveis são a mesma instância é comparar o __id__ delas. Para isso você pode utilizar a função __id()__.\n",
    "\n",
    "Teste para uma lista, crie uma lista (*a*), à atribua a uma segunda variável (*b*) e teste se os *id(a)* e *id(b)* são os mesmos ! Depois, teste se *a == b* e então se *a is b*"
   ]
  },
  {
   "cell_type": "code",
   "execution_count": null,
   "metadata": {
    "collapsed": false
   },
   "outputs": [],
   "source": []
  },
  {
   "cell_type": "markdown",
   "metadata": {},
   "source": [
    "Modifique o caso anterior, ao invés de atribuir o objeto *a* em *b*, utilize o operador *[]* para atribuir totalmente a lista *a* na variável *b* !"
   ]
  },
  {
   "cell_type": "code",
   "execution_count": null,
   "metadata": {
    "collapsed": false
   },
   "outputs": [],
   "source": []
  },
  {
   "cell_type": "markdown",
   "metadata": {},
   "source": [
    "Discuta Mentalmente:\n",
    " \n",
    " 1. Qual é então a função do comparador *is* ??\n",
    " 2. Ao utilizar os []'s o que aconteceu ? \n",
    "\n",
    "Teste agora com uma variável inteira, crie um __int__, copie ele para uma outra variável, e verifique os __id's__ das variáveis:"
   ]
  },
  {
   "cell_type": "code",
   "execution_count": null,
   "metadata": {
    "collapsed": false
   },
   "outputs": [],
   "source": []
  },
  {
   "cell_type": "markdown",
   "metadata": {},
   "source": [
    "Agora, ao atribuir some \"1\" ao valor do __int__ e compare novamente a variável !"
   ]
  },
  {
   "cell_type": "code",
   "execution_count": null,
   "metadata": {
    "collapsed": false
   },
   "outputs": [],
   "source": []
  }
 ],
 "metadata": {
  "kernelspec": {
   "display_name": "Python 2",
   "language": "python",
   "name": "python2"
  },
  "language_info": {
   "codemirror_mode": {
    "name": "ipython",
    "version": 2
   },
   "file_extension": ".py",
   "mimetype": "text/x-python",
   "name": "python",
   "nbconvert_exporter": "python",
   "pygments_lexer": "ipython2",
   "version": "2.7.11"
  }
 },
 "nbformat": 4,
 "nbformat_minor": 0
}

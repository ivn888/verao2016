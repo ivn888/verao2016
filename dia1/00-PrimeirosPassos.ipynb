{
 "cells": [
  {
   "cell_type": "code",
   "execution_count": null,
   "metadata": {
    "collapsed": true
   },
   "outputs": [],
   "source": [
    "from __future__ import division, print_function"
   ]
  },
  {
   "cell_type": "markdown",
   "metadata": {},
   "source": [
    "# Introdução ao Python\n",
    "\n",
    "A linguagem python é feita para ser simples e direta. Linhas que começam com '#' são comentários.\n",
    "\n",
    "```Python\n",
    "# Isso é um comentário\n",
    "```\n",
    "\n",
    "```Python\n",
    "\"\"\"\n",
    "Esse é um \"comentário\" diferente pois quando colocado\n",
    "no começo de um arquivo, função ou classe vira a \n",
    "documentação do método. Ainda, quando utilizados desta \n",
    "forma, permite que o \\n do final da linha seja embutido\n",
    "no campo de comentário, que na verdade é uma variável\n",
    "string anônima !\n",
    "\"\"\"\n",
    "```\n",
    "\n",
    "Faça o seu primeiro comentário abaixo, para validar o campo, e executar o código Python aperte a seta >| acima ou utilize uma das seguintes combinações de teclas: Ctrl+Enter!"
   ]
  },
  {
   "cell_type": "code",
   "execution_count": null,
   "metadata": {
    "collapsed": true
   },
   "outputs": [],
   "source": []
  },
  {
   "cell_type": "markdown",
   "metadata": {},
   "source": [
    "> Ao ser executado o número entre [ ] é atualizado dizendo qual linha foi a última linha de comando evaluada pelo Kernel do IPython."
   ]
  },
  {
   "cell_type": "markdown",
   "metadata": {},
   "source": [
    "## Variáveis Simples, comando Print e função Type\n",
    "\n",
    "Variáveis são definidas a medida que são criadas, para definir uma variável é preciso apenas atribuir um valor a um nome utilizando o sinal de \"=\". O seu tipo e valor são atribuídos de forma integrada."
   ]
  },
  {
   "cell_type": "code",
   "execution_count": null,
   "metadata": {
    "collapsed": false
   },
   "outputs": [],
   "source": [
    "first = 1\n",
    "print(\"O valor de 'first' =\",first)\n",
    "print(\"A variável 'first' é do tipo: %s\" % type(first))"
   ]
  },
  {
   "cell_type": "markdown",
   "metadata": {},
   "source": [
    "Altere o valor da variável **first** para cada um dos seguintes valores abaixo sugeridos  observando o resultado. Para executar a célula utilize novamente o comando Ctrl+Enter, ou a seta >| acima.\n",
    "\n",
    " * 1.0\n",
    " * 1j\n",
    " * '1'\n",
    " * \"1\"\n",
    " * True\n",
    " * False\n",
    " * None\n",
    " "
   ]
  },
  {
   "cell_type": "markdown",
   "metadata": {},
   "source": [
    "No exemplo acima foi utilizado a função __print__ que imprime o valor de uma ou mais variáveis (separadas por vírgulas) como mostrado em:\n",
    "\n",
    "```python\n",
    "print(\"O valor de 'first' =\",first)\n",
    "```\n",
    "\n",
    "> O comando __print__ não é propriamente uma função no Python 2.X pois ele não necessita de () para ser chamado. Isso foi alterado no Python 3.X ou quando você estiver utilizando o **future**. Sempre quando você chama uma função, é necessário o uso dos ().\n",
    "\n",
    "Já no segundo exemplo,\n",
    "\n",
    "```python\n",
    "print(\"A variável 'first' é do tipo: %s\" % type(first))\n",
    "```\n",
    "\n",
    "utilizamos o operador __%__ que realiza a substituição da variável (ou resultado da expressão) a direita do sinal % na expressão com o formato do que se deseja imprimir que fica a esquerda do sinal de %. A função __print()__ então imprime o resultado da substituição.\n",
    "\n",
    "Neste caso, função __type()__ utilizada como expressão no __print()__, descobre qual é o tipo do objeto passado no seu primeiro argumento retornando um objeto representando este tipo, que é então descrito pelo comando __print()__.\n",
    "\n",
    "> A capacidade de um programa questionar suas próprias variáveis, linha de código, método e objeto em tempo de execução é comumente chamado de \"Reflection\" ou \"Introspecção\"."
   ]
  },
  {
   "cell_type": "markdown",
   "metadata": {},
   "source": [
    "## Forçando um tipo específico de variável\n",
    "\n",
    "Além das atribuições simples, ainda é possível forçar o tipo da variável, utilizando um dos comandos abaixo, neste caso o Python tenta obter o valor do tipo requisitado a partir da __string__ ou da variável fornecida.\n",
    "\n",
    "Descomente cada uma das linhas abaixo observando o resultado obtido retornado pelo IPython. Note que, o IPython mostra apenas o resultado do último comando executado no bloco, logo descomente uma linha de cada vez !\n",
    "\n"
   ]
  },
  {
   "cell_type": "code",
   "execution_count": null,
   "metadata": {
    "collapsed": false
   },
   "outputs": [],
   "source": [
    "# bool(1)\n",
    "# int(\"10\")\n",
    "# str(10)\n",
    "# float(10)\n",
    "# str(\"eu tenho uma ' bem aqui\")\n",
    "# str('eu tenho uma \" bem aqui')"
   ]
  },
  {
   "cell_type": "markdown",
   "metadata": {},
   "source": [
    "> Embora não esteja ainda claro para você neste ponto, o que você esta fazendo é criar uma instância de cada um dos tipos, e inicializando ele com as constantes fornecidas. Em Python, tudo é objeto !"
   ]
  },
  {
   "cell_type": "markdown",
   "metadata": {},
   "source": [
    "## Operadores\n",
    "\n",
    "Os principais operadores padrões oferecidos pelo Python são: \n",
    "\n",
    "```\n",
    "\"+\" (soma), \"-\" (subtração), \"*\" (multiplicação), \"/\" (divisão), \"**\" (potenciação), \"%\" (módulo) e \"//\" (divisão truncada - como inteiros)\n",
    "```\n",
    "\n",
    "Os operadores podem ser agrupados por ( ) para garantir a precedência desejada !\n",
    "\n",
    "> Qualquer um desses operadores quando seguidos de um \"=\" tornan-se operadores de atribuição após operação !\n",
    "\n",
    "> Até o Python 2.X a \"/\" realizava a divisão mantendo os tipos, isto é a divisão de inteiro / inteiro retornava inteiro, já no python 3.X (ou quando o future.division esta ativo) toda a divisão com o operador \"/\" retorna um número real. Para obter o comportamento antigo é necessário utilizar o operador \"//\"\n",
    "\n",
    "Transforme o valor dado de 1221212 em segundos em dias (d), horas (h) minutos (m) e segundos (s)"
   ]
  },
  {
   "cell_type": "code",
   "execution_count": null,
   "metadata": {
    "collapsed": false
   },
   "outputs": [],
   "source": [
    "valor = 1221212\n",
    "d = None\n",
    "h = None\n",
    "m = None\n",
    "s = None"
   ]
  },
  {
   "cell_type": "code",
   "execution_count": null,
   "metadata": {
    "collapsed": false,
    "scrolled": true
   },
   "outputs": [],
   "source": [
    "print (\"\"\"\n",
    "Valor=%s segundos corresponde a:\n",
    "      %s dias\n",
    "      %s horas\n",
    "      %s minutos\n",
    "      %s segundos\"\"\" % (valor, d, h, m, s))"
   ]
  },
  {
   "cell_type": "markdown",
   "metadata": {},
   "source": [
    "A operação com tipos distintos pode ser também realizada sempre que o resultado seja o resultado esperado. Isto é, seja o resultado intuitivo da operação. Considere as seguintes variáveis:"
   ]
  },
  {
   "cell_type": "code",
   "execution_count": null,
   "metadata": {
    "collapsed": true
   },
   "outputs": [],
   "source": [
    "nada     = None\n",
    "booleano = True\n",
    "inteiro  = 10\n",
    "real     = 10.0\n",
    "texto    = \"Eu sou um texto\"\n",
    "fakeint  = \"10\""
   ]
  },
  {
   "cell_type": "markdown",
   "metadata": {},
   "source": [
    "Faça a soma de um número inteiro com o de ponto flutuante:"
   ]
  },
  {
   "cell_type": "code",
   "execution_count": null,
   "metadata": {
    "collapsed": false
   },
   "outputs": [],
   "source": []
  },
  {
   "cell_type": "markdown",
   "metadata": {},
   "source": [
    "Faça a soma do inteiro e o booleano"
   ]
  },
  {
   "cell_type": "code",
   "execution_count": null,
   "metadata": {
    "collapsed": false
   },
   "outputs": [],
   "source": []
  },
  {
   "cell_type": "markdown",
   "metadata": {},
   "source": [
    "Faça a soma do inteiro com o nada"
   ]
  },
  {
   "cell_type": "code",
   "execution_count": null,
   "metadata": {
    "collapsed": false
   },
   "outputs": [],
   "source": []
  },
  {
   "cell_type": "markdown",
   "metadata": {},
   "source": [
    "Faça a soma do inteiro com o texto"
   ]
  },
  {
   "cell_type": "code",
   "execution_count": null,
   "metadata": {
    "collapsed": false
   },
   "outputs": [],
   "source": []
  },
  {
   "cell_type": "markdown",
   "metadata": {},
   "source": [
    "Faça a multiplicação do inteiro com o texto"
   ]
  },
  {
   "cell_type": "code",
   "execution_count": null,
   "metadata": {
    "collapsed": false
   },
   "outputs": [],
   "source": []
  },
  {
   "cell_type": "markdown",
   "metadata": {},
   "source": [
    "Faça a soma do inteiro mais o fakeint"
   ]
  },
  {
   "cell_type": "code",
   "execution_count": null,
   "metadata": {
    "collapsed": false
   },
   "outputs": [],
   "source": []
  },
  {
   "cell_type": "markdown",
   "metadata": {},
   "source": [
    "Por fim, faça a soma do inteiro com o fakeint, forçando o tipo dele para inteiro"
   ]
  },
  {
   "cell_type": "code",
   "execution_count": null,
   "metadata": {
    "collapsed": false
   },
   "outputs": [],
   "source": []
  },
  {
   "cell_type": "markdown",
   "metadata": {},
   "source": [
    "# Comparando objetos e valores"
   ]
  },
  {
   "cell_type": "markdown",
   "metadata": {},
   "source": [
    "A comparação de variáveis em Python é bastante intuitiva, os tradicionais comparadores:\n",
    "\n",
    "```\n",
    "\"<\" (menor), \">\" (maior), \"<=\" (menor ou igual), \">=\" (maior ou igual), \"==\" (igual), \"!=\" (diferente)\n",
    "```\n",
    "\n",
    "estão disponíveis. Cada comparação pode ser agrupada utilizando os  agrupadores:\n",
    "\n",
    "```\n",
    "\"or\" (ou) e \"and\" (e)\n",
    "```\n",
    "\n",
    "para objetos e tipos, ainda é possível utilizar:\n",
    "\n",
    "```\n",
    "\"not\" (negação), \"in\" (contido) e \"is\" (é, funciona também para verificar referência/instância)\n",
    "```\n",
    "\n",
    "Considerando as mesmas variáveis do caso anterior, veja como é simples aplicar os operadores de comparação e o resultado obtido pela comparação !"
   ]
  },
  {
   "cell_type": "code",
   "execution_count": null,
   "metadata": {
    "collapsed": false,
    "scrolled": false
   },
   "outputs": [],
   "source": [
    "print(\"nada is None: %s\" % (nada is None))\n",
    "print(\"not texto: %s\" % (not texto))\n",
    "print(\"inteiro > 10 or booleano: %s\" % (inteiro > 10 or booleano))\n",
    "print(\"real < 11 and not booleano: %s\" % (real < 11 and not booleano))\n",
    "print(\"inteiro > real: %s\" % (inteiro > real))\n",
    "print(\"real <= inteiro: %s\" % (real <= inteiro))"
   ]
  },
  {
   "cell_type": "markdown",
   "metadata": {},
   "source": [
    " > Qual o tipo retornado pela aplicação dos operadores de comparação ??"
   ]
  },
  {
   "cell_type": "markdown",
   "metadata": {},
   "source": [
    "## Controle de fluxo do Programa, função range()\n",
    "\n",
    "Utilizando os comparadores apresentados acima é possível escrever expressões condicionais para serem utilizadas em expressões de controle de fluxo no seu programa.\n",
    "\n",
    "Os principais controles de fluxos no Python são, \n",
    "\n",
    "```python\n",
    "if ... elif ... else\n",
    "while ... else ...\n",
    "for ... else ...\n",
    "```\n",
    "\n",
    "Em Python, blocos são definidos por indentação e pontuação. Assim para escrever um __if__ em Python usa-se:\n",
    "\n",
    "```Python\n",
    "if COND:\n",
    "    expr 1\n",
    "    expr 2\n",
    "    expr 3\n",
    "elif COND:\n",
    "    expr 4\n",
    "else:\n",
    "    expr 5\n",
    "```\n",
    "\n",
    "De forma semelhante, __while__ e __for__ são seguidos de condições e terminados por \":\". O bloco que compõe o laço deve ser indentado em relação a cada uma das palavras __for__ e __while__ como realizado para os blocos __if__, __elif__ e __else__.\n",
    "\n",
    "Escreva um fragmento de código em Python que testa se o valor da variável __inteiro__ (definida no bloco anterior) é menor do 5, esta entre 10 e 15, ou em nenhum dos casos anteriores mostrando assim uma mensagem coerente."
   ]
  },
  {
   "cell_type": "code",
   "execution_count": null,
   "metadata": {
    "collapsed": false
   },
   "outputs": [],
   "source": []
  },
  {
   "cell_type": "markdown",
   "metadata": {},
   "source": [
    "Agora que você já aprendeu o a utilizar o __if__, vamos olhar o funcionamento dos laços __while__ e __for__. A sintaxe do __while__ é mostrada abaixo. Diferente de outras linguagens a expressão __else__ pode ser utilizada também em laços como o __while__ e mesmo __for__.\n",
    "\n",
    "```Python\n",
    "while COND:\n",
    "    expr 1\n",
    "    expr 2\n",
    "    expr 3\n",
    "    break | continue\n",
    "else:\n",
    "    expr 1\n",
    "    expr 2\n",
    "```\n",
    "\n",
    "O laços __while__ é executado enquanto a condição COND for verdadeira! Os comandos __break__ e __continue__ podem interromper ou pular um item  no laço, por fim, o bloco definido pelo __else__ é executado sempre que o laço não for terminado pelo comando __break__.\n",
    "\n",
    "Escreva um laço utilizando o __while__ para imprimir os números de 0 à 5 (incluindo o 5):"
   ]
  },
  {
   "cell_type": "code",
   "execution_count": null,
   "metadata": {
    "collapsed": false
   },
   "outputs": [],
   "source": []
  },
  {
   "cell_type": "markdown",
   "metadata": {},
   "source": [
    "Escreva agora um laço para imprimir os números de 0,2,4 e 5 (0 ... 2n, 2n-1) utilizando um __while__ em conjunto com o __else__."
   ]
  },
  {
   "cell_type": "code",
   "execution_count": null,
   "metadata": {
    "collapsed": false
   },
   "outputs": [],
   "source": []
  },
  {
   "cell_type": "markdown",
   "metadata": {},
   "source": [
    "O último mas talvez o mais utilizado dos laços no Python é o __for__. Ele itera por itens em uma lista, executando o bloco de instruções indicado para cada item da lista de forma semiautomática.\n",
    "\n",
    "A sintaxe básica do laço __for__ é dada abaixo:\n",
    "\n",
    "```Python\n",
    "for VAR in LIST:\n",
    "    expr 1\n",
    "    expr 2\n",
    "    expr 3\n",
    "    continue | break\n",
    "else:\n",
    "    expr 4\n",
    "    expr 5\n",
    "```\n",
    "\n",
    "O comando __for__ irá atribuir cada item da lista (LIST) na variável (VAR) e executar o bloco de expressões dadas. Os comandos __break__ e __continue__ como no __while__ podem alterar o fluxo do laço, e o __else__ é executado quando o __for__ não for terminado pelo comando __break__.\n",
    "\n",
    "> O modo mais simples de se gerar uma lista de números é utilizando a função __range()__ ou o objeto __xrange()__ (versão mais aprimorada do método __range()__ onde são utilizados conceitos de programação orientada a objeto para criar um __generator__). No Python 3.X o método __xrange()__ substitui o __range()__  !!\n",
    "\n",
    "> Para saber como utilizar qualquer coisa em Python, existe uma função interna chamada __help__ que pode ser utilizada a qualquer momento. Ainda, para facilitar o IPython permite acessar a documentação através do atalho Shift+Tab quando o cursor esta sobre o objeto a ser explorado.\n",
    "\n",
    "Utilizando a função __range()__ em conjunto com laço __for__ faça um laço que calcula a soma dos n = 6 primeiros número inteiros contados a partir do zero. Ainda, utilize a função __type__ para descobrir o tipo de objeto retornado pelo comando __range__."
   ]
  },
  {
   "cell_type": "code",
   "execution_count": null,
   "metadata": {
    "collapsed": false
   },
   "outputs": [],
   "source": []
  },
  {
   "cell_type": "markdown",
   "metadata": {
    "collapsed": true
   },
   "source": [
    "Repita o exercício anterior trocando a função __range__ pelo __xrange()__, utilize o __type__ para descobrir o tipo do objeto retornado pelo  __xrange()__. Teste o __xrange()__ no laço __for__ e veja que ambos se comportam da mesma forma."
   ]
  },
  {
   "cell_type": "code",
   "execution_count": null,
   "metadata": {
    "collapsed": false
   },
   "outputs": [],
   "source": []
  },
  {
   "cell_type": "markdown",
   "metadata": {},
   "source": [
    "O fragmento abaixo de código em Python determina o tamanho aproximado de bytes consumidos por um objeto na memória ! Para isso iremos utilizar um método disponível na biblioteca padrão do Python de interação com o sistema chamada de __sys__. O nome do método é __sys.getsizeof()__.\n",
    "\n",
    "> Note que esse valor não considera que objetos podem referenciar outros objetos, assim o valor retornado é apenas referente a instância em questão !!\n",
    "\n",
    "Altere o valor de __n__ abaixo e execute novamente para ver a quantidade de memória consumida em cada um dos casos ! Cuidado, a sua máquina virtual deve ter perto de 2Gb de memória !"
   ]
  },
  {
   "cell_type": "code",
   "execution_count": null,
   "metadata": {
    "collapsed": true
   },
   "outputs": [],
   "source": [
    "n = 1"
   ]
  },
  {
   "cell_type": "code",
   "execution_count": null,
   "metadata": {
    "collapsed": false
   },
   "outputs": [],
   "source": [
    "import sys         # Importando os módulos de sistema do Python\n",
    "\n",
    "robj  = range(n)   # Obtendo uma lista de forma direta\n",
    "xobj = xrange(n)   # Obtendo o gerador que se comporta como lista\n",
    "\n",
    "# Determinando o tamanho de ambos os objetos\n",
    "#\n",
    "print(\"RObj consome: %10d bytes\" % sys.getsizeof(robj))\n",
    "print(\"XObj consome: %10d bytes\" % sys.getsizeof(xobj))\n",
    "\n",
    "del robj\n",
    "del xobj"
   ]
  }
 ],
 "metadata": {
  "kernelspec": {
   "display_name": "Python 2",
   "language": "python",
   "name": "python2"
  },
  "language_info": {
   "codemirror_mode": {
    "name": "ipython",
    "version": 2
   },
   "file_extension": ".py",
   "mimetype": "text/x-python",
   "name": "python",
   "nbconvert_exporter": "python",
   "pygments_lexer": "ipython2",
   "version": "2.7.11"
  }
 },
 "nbformat": 4,
 "nbformat_minor": 0
}

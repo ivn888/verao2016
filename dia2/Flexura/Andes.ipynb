{
 "cells": [
  {
   "cell_type": "code",
   "execution_count": null,
   "metadata": {
    "collapsed": true
   },
   "outputs": [],
   "source": [
    "%matplotlib inline\n",
    "\n",
    "from __future__ import division, print_function\n",
    "\n",
    "import numpy as np\n",
    "import matplotlib.pyplot as plt\n",
    "from scipy import sparse #import bsr_matrix\n",
    "from scipy.sparse.linalg import dsolve"
   ]
  },
  {
   "cell_type": "markdown",
   "metadata": {},
   "source": [
    "# Aplicando o modelo numérico em um caso real: Andes\n",
    "\n",
    "A Cordilheira dos Andes representa uma carga sobre a placa da América do Sul, resultando em deflexões expressivas da superfície. Porém devido aos processos superficiais de erosão e sedimentação, essas depressões próximas à cordilheira são preenchidas por sedimentos, formando grandes bacias sedimentares denominadas de bacias de antepaís, ou bacia de *foreland*. Um exemplo de bacia é a Bacia de Beni, próxima aos Andes bolivianos.\n",
    "\n",
    "![](Beni_geology.jpg)\n",
    "(Roddaz *et al.*, 2005)"
   ]
  },
  {
   "cell_type": "markdown",
   "metadata": {},
   "source": [
    "Para estimarmos a espessura elástica efetiva da placa da América do Sul nesta região, vamos tentar ajustar a curva de flexura resultante da carga da Cordilheira dos Andes com o embasamento da Bacia de Beni. Para isso utilize o arquivo contendo o perfil topográfico dos Andes (Andes_profile.txt) e a curva do embasamento de um segmento da Bacia de Beni (\"Beni.txt\"):"
   ]
  },
  {
   "cell_type": "code",
   "execution_count": null,
   "metadata": {
    "collapsed": false
   },
   "outputs": [],
   "source": []
  },
  {
   "cell_type": "markdown",
   "metadata": {},
   "source": [
    "Selecione apenas a porção topográfica dos Andes para construir a carga topográfica."
   ]
  },
  {
   "cell_type": "code",
   "execution_count": null,
   "metadata": {
    "collapsed": false
   },
   "outputs": [],
   "source": []
  },
  {
   "cell_type": "markdown",
   "metadata": {},
   "source": [
    "Utilize a classe do exercício anterior para calcular a flexura numericamente. Porém há uma pequena diferença na construção deste problema: neste caso vamos considerar que a borda oeste da placa da América do Sul é rompida, o que induz a modificação de 4 elementos da matriz do sistema linear.\n",
    "```Python\n",
    "A[0][0]=2*D+dx**4*drho*g\n",
    "A[0][2]=2*D\n",
    "A[1][0]=-2*D\n",
    "A[1][1]=5*D+dx**4*drho*g\n",
    "```\n",
    "\n",
    "Neste caso o $\\Delta \\rho=3300-2500$ kg/m$^3$ e a densidade efetiva da carga $p$ é $2700$ kg/m$^3$."
   ]
  },
  {
   "cell_type": "code",
   "execution_count": null,
   "metadata": {
    "collapsed": true
   },
   "outputs": [],
   "source": []
  },
  {
   "cell_type": "markdown",
   "metadata": {
    "collapsed": false
   },
   "source": [
    "Encontre o valor de $T_e$ para a placa da América do Sul nesta região."
   ]
  },
  {
   "cell_type": "code",
   "execution_count": null,
   "metadata": {
    "collapsed": false
   },
   "outputs": [],
   "source": []
  }
 ],
 "metadata": {
  "kernelspec": {
   "display_name": "Python 2",
   "language": "python",
   "name": "python2"
  },
  "language_info": {
   "codemirror_mode": {
    "name": "ipython",
    "version": 2
   },
   "file_extension": ".py",
   "mimetype": "text/x-python",
   "name": "python",
   "nbconvert_exporter": "python",
   "pygments_lexer": "ipython2",
   "version": "2.7.11"
  }
 },
 "nbformat": 4,
 "nbformat_minor": 0
}

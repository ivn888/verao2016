{
 "cells": [
  {
   "cell_type": "code",
   "execution_count": 1,
   "metadata": {
    "collapsed": true
   },
   "outputs": [],
   "source": [
    "%matplotlib inline\n",
    "\n",
    "import numpy as np\n",
    "import matplotlib.pyplot as plt\n",
    "from scipy import sparse\n",
    "from scipy.sparse.linalg import dsolve"
   ]
  },
  {
   "cell_type": "markdown",
   "metadata": {},
   "source": [
    "# Equação de flexura por diferenças finitas (versão 2)\n",
    "\n",
    "A matriz $\\textbf A$ é um tipo de matriz esparsa, ou seja, a maior parte dos elementos da matriz são nulos. Para observar essa característica, vamos gerar a matriz $\\textbf A$ e visualizar os elementos da matriz que são diferentes de zero. Nesse exercício as 5 diagonais foram preenchidas com 1 (apenas para indicar um valor diferente de zero) e usou-se a função `imshow` do `matplotlib` para possibilitar a visualização dos elementos não-nulos."
   ]
  },
  {
   "cell_type": "code",
   "execution_count": 2,
   "metadata": {
    "collapsed": false
   },
   "outputs": [
    {
     "data": {
      "image/png": "[encoded data removed]",
      "text/plain": [
       "<matplotlib.figure.Figure at 0xb05e1d8c>"
      ]
     },
     "metadata": {},
     "output_type": "display_data"
    }
   ],
   "source": [
    "N = 30\n",
    "\n",
    "A = np.zeros((N,N))\n",
    "\n",
    "A[range(N),range(N)]= 1\n",
    "A[range(0,N-1),range(1,N)]=1\n",
    "A[range(1,N),range(0,N-1)]=1\n",
    "A[range(0,N-2),range(2,N)]=1\n",
    "A[range(2,N),range(0,N-2)]=1\n",
    "\n",
    "plt.matshow(A, interpolation='nearest')\n",
    "plt.show()"
   ]
  },
  {
   "cell_type": "markdown",
   "metadata": {},
   "source": [
    "Nesta figura os elementos não-nulos são representados por quadrados vermelhos. Podemos ver que a maior parte dos elementos são nulos (região em azul). O efeito fica ainda mais evidente com o aumento do número de pontos $N$. (_Verifique!_)\n",
    "\n",
    "Assim há um grande desperdício de memória para alocar a matriz $\\textbf A$. Adicionalmente, a eficiência da solução do sistema linear fica comprometida, ou seja, o algoritmo gasta um tempo significativo multiplicando e somando termos nulos que não influenciam no resultado final. \n",
    "\n",
    "Podemos melhorar a eficiência do algoritmo alocando apenas os termos não-nulos da matriz $\\textbf A$. Para isso vamos ter que importar alguns métodos para manipulações algébricas de matrizes esparsas da biblioteca Scipy, como indicado no início deste notebook:\n",
    "\n",
    "```Python\n",
    "from scipy import sparse\n",
    "```"
   ]
  },
  {
   "cell_type": "markdown",
   "metadata": {},
   "source": [
    "Para alocar a matriz esparsa, teremos que criar 3 vetores auxiliares: um para armazenar os valores dos elementos não-nulos e outros dois para armazenar os índices $(i,j)$ dos respectivos elementos.\n",
    "\n",
    "Por exemplo, considere a seguinte matriz esparsa (onde os pontos representam os elementos nulos, indicados desta forma para facilitar a visualização dos termos não-nulos) \n",
    "$$\n",
    "\\begin{bmatrix}\n",
    "1 & 2 & . & . \\\\\n",
    ". & 3 & 4 & 5 \\\\\n",
    ". & . & 6 & . \\\\\n",
    ". & . & . & 7 \\\\\n",
    "\\end{bmatrix}\n",
    "$$ \n",
    "\n",
    "Para representá-la de forma compacta vamos criar um vetor `vals` para armazenar os valores e dois vetores `indi` e `indj` para armazenar os índices das linhas e das colunas, respectivamente. O resultado seria o seguinte:\n",
    "\n",
    "```Python\n",
    "vals = [1, 2, 3, 4, 5, 6, 7]\n",
    "indi = [0, 0, 1, 1, 1, 2, 3]\n",
    "indj = [0, 1, 1, 2, 3, 2, 3]\n",
    "```\n",
    "Para criar a matriz esparsa usamos a classe `csr_matrix` (_Compressed Sparse Row matrix_):\n",
    "```Python\n",
    "ni,nj = 4,4\n",
    "Asp = sparse.csr_matrix((vals,(indi,indj)), shape=(ni,nj))\n",
    "```\n",
    "onde `ni` e `nj` são respectivamente o número de linhas e colunas da matriz."
   ]
  },
  {
   "cell_type": "code",
   "execution_count": null,
   "metadata": {
    "collapsed": false
   },
   "outputs": [],
   "source": []
  },
  {
   "cell_type": "markdown",
   "metadata": {},
   "source": [
    "Podemos obter a matriz \"cheia\" original, com os zeros, usando-se o método `todense()`:\n",
    "```Python\n",
    "Aoriginal = sparse.csr_matrix((vals,(indi,indj)), shape=(ni,nj)).todense()\n",
    "```"
   ]
  },
  {
   "cell_type": "code",
   "execution_count": null,
   "metadata": {
    "collapsed": false
   },
   "outputs": [],
   "source": []
  },
  {
   "cell_type": "markdown",
   "metadata": {},
   "source": [
    "A matriz esparsa pode ser multiplicada com um vetor ou matriz usando-se o método `dot()`:\n",
    "```Python\n",
    "v = [1,1,1,1]\n",
    "b = Asp.dot(v)\n",
    "```"
   ]
  },
  {
   "cell_type": "code",
   "execution_count": null,
   "metadata": {
    "collapsed": false
   },
   "outputs": [],
   "source": []
  },
  {
   "cell_type": "markdown",
   "metadata": {},
   "source": [
    "Para resolver o sistema linear  `Asp v = b` usa-se o método `spsolve`:\n",
    "```Python\n",
    "v = dsolve.spsolve(Asp,b)\n",
    "```\n",
    "e o seguinte módulo deve ser importado:\n",
    "```Python\n",
    "from scipy.sparse.linalg import dsolve\n",
    "```"
   ]
  },
  {
   "cell_type": "code",
   "execution_count": null,
   "metadata": {
    "collapsed": false
   },
   "outputs": [],
   "source": []
  },
  {
   "cell_type": "markdown",
   "metadata": {},
   "source": [
    "Agora vamos criar uma classe que contenha, além dos dois métodos da classe do exercício anterior, um método __numerico2__ que utilize a matriz esparsa de forma compacta."
   ]
  },
  {
   "cell_type": "code",
   "execution_count": null,
   "metadata": {
    "collapsed": true
   },
   "outputs": [],
   "source": []
  },
  {
   "cell_type": "markdown",
   "metadata": {},
   "source": [
    "Com a nova classe, verifique que o modelo numérico converge para a solução analítica quando o espaçamento $\\Delta x$ dicresce."
   ]
  },
  {
   "cell_type": "code",
   "execution_count": null,
   "metadata": {
    "collapsed": false
   },
   "outputs": [],
   "source": []
  },
  {
   "cell_type": "markdown",
   "metadata": {},
   "source": [
    "Agora vamos verificar qual a diferença do tempo de execução entre os métodos numéricos que utilizam matriz cheia e matriz vazia."
   ]
  },
  {
   "cell_type": "code",
   "execution_count": null,
   "metadata": {
    "collapsed": true
   },
   "outputs": [],
   "source": []
  }
 ],
 "metadata": {
  "kernelspec": {
   "display_name": "Python 2",
   "language": "python",
   "name": "python2"
  },
  "language_info": {
   "codemirror_mode": {
    "name": "ipython",
    "version": 2
   },
   "file_extension": ".py",
   "mimetype": "text/x-python",
   "name": "python",
   "nbconvert_exporter": "python",
   "pygments_lexer": "ipython2",
   "version": "2.7.11"
  }
 },
 "nbformat": 4,
 "nbformat_minor": 0
}

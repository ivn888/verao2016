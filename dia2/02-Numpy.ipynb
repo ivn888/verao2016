{
 "cells": [
  {
   "cell_type": "code",
   "execution_count": null,
   "metadata": {
    "collapsed": true
   },
   "outputs": [],
   "source": [
    "from __future__ import print_function"
   ]
  },
  {
   "cell_type": "markdown",
   "metadata": {},
   "source": [
    " > No começo deste workbook para te ajudar o código das células é dado parcialmente, e você necessita apenas de preencher os valores indicados pelos símbolos __??__ seguindo as instruções dadas "
   ]
  },
  {
   "cell_type": "markdown",
   "metadata": {},
   "source": [
    "Importe o NumPy como np, e o matplotlib.pyplot como plt"
   ]
  },
  {
   "cell_type": "code",
   "execution_count": null,
   "metadata": {
    "collapsed": true
   },
   "outputs": [],
   "source": [
    "%matplotlib inline\n",
    "\n",
    "import ?? as np\n",
    "import ?? as ??"
   ]
  },
  {
   "cell_type": "markdown",
   "metadata": {},
   "source": [
    "# Praticando o NumPy\n",
    "\n",
    "Neste workbook vamos praticar um pouco o NumPy abordando os seguintes tópicos:\n",
    "\n",
    " * ndarrays\n",
    " * matrix\n",
    " * linalg\n",
    " * random numbers\n",
    " * statistics\n",
    " * exemplos de ufunc"
   ]
  },
  {
   "cell_type": "markdown",
   "metadata": {},
   "source": [
    "## Operações em vetores e matrizes e Álgebra Linear\n",
    "\n",
    "Vamos iniciar criando dois __ndarrays__, utilize o método *arange* para gerar um __ndarray__ (chamado de __a__) variando de [0,5[ e depois gere um __ndarray__ (chamado __b__) preenchido com 1's do mesmo tamanho:"
   ]
  },
  {
   "cell_type": "code",
   "execution_count": null,
   "metadata": {
    "collapsed": false
   },
   "outputs": [],
   "source": [
    "a = np.??(0.0, ??)\n",
    "b = np.??(??)\n",
    "\n",
    "print(a)\n",
    "print(b)"
   ]
  },
  {
   "cell_type": "markdown",
   "metadata": {},
   "source": [
    "Modifique os dois elementos centrais de **b** substituindo **1** por **2**"
   ]
  },
  {
   "cell_type": "code",
   "execution_count": null,
   "metadata": {
    "collapsed": false
   },
   "outputs": [],
   "source": [
    "b[??] = 2\n",
    "print(b)"
   ]
  },
  {
   "cell_type": "markdown",
   "metadata": {},
   "source": [
    "Multiplique os vetores **a** e **b** usando o operador \"*\":"
   ]
  },
  {
   "cell_type": "code",
   "execution_count": null,
   "metadata": {
    "collapsed": false,
    "scrolled": true
   },
   "outputs": [],
   "source": []
  },
  {
   "cell_type": "markdown",
   "metadata": {},
   "source": [
    "Multiplique novamente o **a** pelo **b**, mudando o **shape** do **a** para **(4,1)** e perceba que o NumPy faz com que cada elemento de **a** anda-se por cima de **b** operando a  multiplicação !"
   ]
  },
  {
   "cell_type": "code",
   "execution_count": null,
   "metadata": {
    "collapsed": false,
    "scrolled": true
   },
   "outputs": [],
   "source": [
    "a.??((??,??)) * b"
   ]
  },
  {
   "cell_type": "markdown",
   "metadata": {},
   "source": [
    "Mude a forma de **a** e  **b** de forma que cada um deles se tornem uma matriz quadrada de tamanha **2x2**:"
   ]
  },
  {
   "cell_type": "code",
   "execution_count": null,
   "metadata": {
    "collapsed": false
   },
   "outputs": [],
   "source": [
    "a = ??\n",
    "b = ??\n",
    "print(a)\n",
    "print(b)"
   ]
  },
  {
   "cell_type": "markdown",
   "metadata": {},
   "source": [
    "Multiplique agora os dois *ndarrays* de dimensão **2**, observando que o resultado não é o produto de matrizes !"
   ]
  },
  {
   "cell_type": "code",
   "execution_count": null,
   "metadata": {
    "collapsed": false,
    "scrolled": true
   },
   "outputs": [],
   "source": []
  },
  {
   "cell_type": "markdown",
   "metadata": {},
   "source": [
    "Como já comentado, o NumPy oferece alguns módulos para realizar operações de álgebra linear (np.linalg) em vetores n-dimensionais e mesmo em matrizes (caso específico de ordem 2-dimensional). Vamos agora utilizar alguns destes métodos do submódulo *linalg*.\n",
    "\n",
    "Para conseguir agora então operar a multiplicação das matrizes **a** e **b** anteriores utilize agora o método *dot* para obter a multiplicação de **a** e **b** prestando atenção que:\n",
    "\n",
    "> O método *dot* está disponível tanto dentro do objeto ndarray quanto no namespace numpy (diferente de outros métodos do pacote de álgebra linear do numpy). Entenda a diferença de utilizar o método __dot__ do __np__ e o método __dot__ da instância __ndarray__ !"
   ]
  },
  {
   "cell_type": "markdown",
   "metadata": {},
   "source": [
    " * Use o __dot__ que esta presente no __np__"
   ]
  },
  {
   "cell_type": "code",
   "execution_count": null,
   "metadata": {
    "collapsed": true
   },
   "outputs": [],
   "source": []
  },
  {
   "cell_type": "markdown",
   "metadata": {},
   "source": [
    " * Use o dot que está presente no objeto __a__"
   ]
  },
  {
   "cell_type": "code",
   "execution_count": null,
   "metadata": {
    "collapsed": false,
    "scrolled": true
   },
   "outputs": [],
   "source": []
  },
  {
   "cell_type": "markdown",
   "metadata": {},
   "source": [
    "Uma forma alternativa de se obter o valor da multiplicação de matrizes é a partir do ndarray obter um objeto matrix (*np.matrix*), que então compreende o \"*\" como um processo de multiplicação de matrizes e não mais, como multiplicação de vetores ponto a ponto ! Embora existe, este tipo não é muito útil por ser menos genérico que o tipo ndarray sem ganhar muita funcionalidade a mais:\n",
    "\n",
    "```Python\n",
    "np.matrix(a) * np.matrix(b)\n",
    "```\n",
    "\n",
    "> Ainda, o objeto matrix quando operado retorna sempre um objeto matrix !\n",
    "\n"
   ]
  },
  {
   "cell_type": "markdown",
   "metadata": {},
   "source": [
    "Utilize agora o método *matrix_power* para obter a potência de ordem  2 e -2 da matriz **a**. Salve o resultado em duas matrizes diferentes:\n",
    "\n",
    "> Atenção que antes de utilizar o método você deve encontrar onde ele está !"
   ]
  },
  {
   "cell_type": "code",
   "execution_count": null,
   "metadata": {
    "collapsed": false
   },
   "outputs": [],
   "source": [
    "atwo   = ??  # a^2\n",
    "amtwo  = ??  # a^(-2)"
   ]
  },
  {
   "cell_type": "markdown",
   "metadata": {},
   "source": [
    "Obtenha agora, a multiplicação da matriz a^2 e a^-2 e verifique você irá obter a matriz identidade, já que o ao elevar a matriz a -2 o NumPy obteve a matriz inversa de *a* e elevou a *abs(2)* !"
   ]
  },
  {
   "cell_type": "code",
   "execution_count": null,
   "metadata": {
    "collapsed": false,
    "scrolled": true
   },
   "outputs": [],
   "source": [
    "np.dot(atwo,amtwo)"
   ]
  },
  {
   "cell_type": "markdown",
   "metadata": {},
   "source": [
    "## Autovetores e Autovalores\n",
    "\n",
    "Considerando uma matriz quadrada é possível obter até N vetores especiais distintos que quando multiplicados pela matriz não sofrem rotação e apenas são escalados por uma constante. Em outras palavras temos:\n",
    "\n",
    "$$ A \\cdot \\vec{v} = \\lambda \\cdot \\vec{v} $$\n",
    "\n",
    "colocado deste modo os vetores *v* são chamados então de autovetores e **A** e $\\lambda$ os autovalores de **A**. Utilize o método *linalg.eig* para obter os autovalores e autovalores de **a** e depois valide o resultado pela equação acima:\n",
    "\n",
    "> Vai ser necessário ler a descrição breve na documentação¹ do método acima para conseguir entender o que, o método retorna !\n",
    "\n",
    "¹ http://docs.scipy.org/doc/numpy-1.10.0/reference/generated/numpy.linalg.eig.html"
   ]
  },
  {
   "cell_type": "code",
   "execution_count": null,
   "metadata": {
    "collapsed": false,
    "scrolled": false
   },
   "outputs": [],
   "source": [
    "??, ?? = np.linalg.eig(??)\n",
    "\n",
    "# São dois autovalores / autovetores, \n",
    "# logo temos que validar para cada um !\n",
    "\n",
    "for i in range(0,len(??)):\n",
    "    print(np.dot(??,??) - ?? * ??)"
   ]
  },
  {
   "cell_type": "markdown",
   "metadata": {},
   "source": [
    "## Sistemas lineares\n",
    "\n",
    "Resolva agora a seguinte equação:\n",
    "\n",
    "$$ a \\cdot x  = y $$\n",
    "\n",
    "onde $a$ é a matrix anterior e $y = [1,-1]$ multiplicando o vetor $y$ pela inversa da matriz **a** que pode ser obtida pelo método *linalg.inv**:"
   ]
  },
  {
   "cell_type": "code",
   "execution_count": null,
   "metadata": {
    "collapsed": false
   },
   "outputs": [],
   "source": []
  },
  {
   "cell_type": "markdown",
   "metadata": {},
   "source": [
    "Uma outra forma de resolver isso é utilizando o método *linalg.solve* que irá obter a solução do sistema utilizando as rotinas da biblioteca LAPACK"
   ]
  },
  {
   "cell_type": "code",
   "execution_count": null,
   "metadata": {
    "collapsed": false
   },
   "outputs": [],
   "source": []
  },
  {
   "cell_type": "markdown",
   "metadata": {},
   "source": [
    "Valide agora a solução do sistema, comparando o produto da solução pela matriz com o valor de y para isso use o operador \"==\", comparando dot(a,x) == y !"
   ]
  },
  {
   "cell_type": "code",
   "execution_count": null,
   "metadata": {
    "collapsed": false
   },
   "outputs": [],
   "source": []
  },
  {
   "cell_type": "markdown",
   "metadata": {},
   "source": [
    "Neste caso é fácil conferir que ambos os valores são True, sendo assim tornando a solução obtida aceitável, mas, quando temos vetores maiores fica inviável conferir um a um, e para isso podemos utilizar a função __all__ para fazer essa tarefa.\n",
    "\n",
    "Utilize o all para testar a validade do sistema"
   ]
  },
  {
   "cell_type": "code",
   "execution_count": null,
   "metadata": {
    "collapsed": false
   },
   "outputs": [],
   "source": [
    "all(??)"
   ]
  },
  {
   "cell_type": "markdown",
   "metadata": {},
   "source": [
    "## Visualizando uma matriz\n",
    "\n",
    "Utilize o método *plt.matshow* para visualizar uma matriz. Inicie montando uma matriz de zeros com 100x100 items"
   ]
  },
  {
   "cell_type": "code",
   "execution_count": null,
   "metadata": {
    "collapsed": false
   },
   "outputs": [],
   "source": [
    "z = np.zeros((??,??))"
   ]
  },
  {
   "cell_type": "markdown",
   "metadata": {},
   "source": [
    "Agora, preencha a diagonal principal e secundária da matriz com 1's!\n",
    "\n",
    "> Utilize para isso a indexação por vetores no __ndarray__ !"
   ]
  },
  {
   "cell_type": "code",
   "execution_count": null,
   "metadata": {
    "collapsed": false
   },
   "outputs": [],
   "source": [
    "z[??, ??] = 1  # Diagonal principal\n",
    "z[??, ??] = 1  # Diagonal secundária"
   ]
  },
  {
   "cell_type": "markdown",
   "metadata": {},
   "source": [
    "Agora utilize a função *plt.matshow()* para visualizar a matriz, onde cada item da matriz vira um pixel na imagem gerada ! "
   ]
  },
  {
   "cell_type": "code",
   "execution_count": null,
   "metadata": {
    "collapsed": false
   },
   "outputs": [],
   "source": [
    "plt.matshow(??)\n",
    "plt.show()"
   ]
  },
  {
   "cell_type": "markdown",
   "metadata": {},
   "source": [
    "## Números aleatórios e Estatística Básica\n",
    "\n",
    "O NumPy oferece diversas funções para gerar números aleatórios dentro do sub módulo *random*. Além da capacidade de gerar vetores de números aleatórios ainda é também capaz de gerar amostras de distribuições Normais, Binomiais ou Poisson dentre outras !\n",
    "\n",
    "Para começarmos gere um vetor de 20000 amostras de valores aleatórias utilizando o método *random.rand*, a seguir faça um histograma dos números gerados utilizando a função *plt.hist*, tente alterar o valor do número de bins que é escolhido por padrão pelo comando *hist*:"
   ]
  },
  {
   "cell_type": "code",
   "execution_count": null,
   "metadata": {
    "collapsed": false
   },
   "outputs": [],
   "source": [
    "x = np.random.??(??)\n",
    "bins = plt.hist(??, bins = ??)\n",
    "plt.show()"
   ]
  },
  {
   "cell_type": "markdown",
   "metadata": {},
   "source": [
    "Agora, ao invés de utilizar o comando *rand*, utilize o comando *randn*, para gerar uma distribuição normal e novamente visualize o seu histograma !"
   ]
  },
  {
   "cell_type": "code",
   "execution_count": null,
   "metadata": {
    "collapsed": false,
    "scrolled": true
   },
   "outputs": [],
   "source": []
  },
  {
   "cell_type": "markdown",
   "metadata": {},
   "source": [
    "Ainda, como parte do próprio tipo ndarray é possível interrogá-lo sobre algumas de suas características estatísticas básicas como:\n",
    "\n",
    " * min    - Valor mínimo do ndarray\n",
    " * max    - Valor máximo no ndarray\n",
    " * mean   - Média do ndarray \n",
    " * argmin - Posição do mínimo do ndarray\n",
    " * argmax - Posição do máximo do ndarray\n",
    " * std    - Desvio Padrão dos valores no ndarray\n",
    " * var    - Variância dos valores no ndarray\n",
    " * sum    - Soma dos valores no ndarray\n",
    "\n",
    "> Além destes métodos disponíveis diretamente no ndarray, existem ufunc's que extraem parâmetros estatísticos das listas ndarray como *np.median* (Mediana do ndarray).\n",
    "\n",
    "\n",
    "Experimente imprimir os valores mínimos e máximo (e suas posições dentro do vetor), a média dos valores, a mediana, o desvio padrão e a variância da distribuição  !"
   ]
  },
  {
   "cell_type": "code",
   "execution_count": null,
   "metadata": {
    "collapsed": false
   },
   "outputs": [],
   "source": []
  },
  {
   "cell_type": "markdown",
   "metadata": {},
   "source": [
    "## Shuffle \n",
    "\n",
    "Uma outra interessante função oferecida pelo módulo de números aleatórios do NumPy é a capacidade de desordenar os números dentro de um vetor *ndarray* !\n",
    "\n",
    "> Lembre-se que mesmo que um *ndarray* tenha mais do que uma dimensão ele ainda é compreendido como uma sequência de números distribuídos pelo seu shape !\n",
    "\n",
    "Crie novamente uma matriz com zeros preenchendo a sua diagonal principal com 1's e utilize o método *matshow* para visualizar a diagonal !"
   ]
  },
  {
   "cell_type": "code",
   "execution_count": null,
   "metadata": {
    "collapsed": false,
    "scrolled": true
   },
   "outputs": [],
   "source": []
  },
  {
   "cell_type": "markdown",
   "metadata": {},
   "source": [
    "Agora, desordene a diagonal principal utilizando utilizando o método *random.shuffle()*, que irá desordenar os elementos da matriz **inplace** !"
   ]
  },
  {
   "cell_type": "code",
   "execution_count": null,
   "metadata": {
    "collapsed": false,
    "scrolled": true
   },
   "outputs": [],
   "source": []
  }
 ],
 "metadata": {
  "kernelspec": {
   "display_name": "Python 2",
   "language": "python",
   "name": "python2"
  },
  "language_info": {
   "codemirror_mode": {
    "name": "ipython",
    "version": 2
   },
   "file_extension": ".py",
   "mimetype": "text/x-python",
   "name": "python",
   "nbconvert_exporter": "python",
   "pygments_lexer": "ipython2",
   "version": "2.7.11"
  }
 },
 "nbformat": 4,
 "nbformat_minor": 0
}

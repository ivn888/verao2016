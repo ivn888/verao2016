{
 "cells": [
  {
   "cell_type": "code",
   "execution_count": 1,
   "metadata": {
    "collapsed": true
   },
   "outputs": [],
   "source": [
    "import antigravity"
   ]
  },
  {
   "cell_type": "markdown",
   "metadata": {},
   "source": [
    "# Praticando Imports\n",
    "\n",
    "Vamos praticar um pouco o uso dos imports neste notebook. \n",
    "\n",
    "O primeiro módulo que vamos importar é o *math* !"
   ]
  },
  {
   "cell_type": "markdown",
   "metadata": {},
   "source": [
    "## Math\n",
    "\n",
    "Para importar o *math* faça:\n",
    "\n",
    "```Python\n",
    "import math\n",
    "```"
   ]
  },
  {
   "cell_type": "code",
   "execution_count": null,
   "metadata": {
    "collapsed": false
   },
   "outputs": [],
   "source": []
  },
  {
   "cell_type": "markdown",
   "metadata": {},
   "source": [
    "Descubra como você pode fazer para calcular o arco seno de um ângulo utilizado o *math* e depois, converter o resultado para grau decimal, teste como o valore de $ \\sqrt 2 / 2$"
   ]
  },
  {
   "cell_type": "code",
   "execution_count": null,
   "metadata": {
    "collapsed": false
   },
   "outputs": [],
   "source": []
  },
  {
   "cell_type": "markdown",
   "metadata": {},
   "source": [
    "Considere agora o vetor (1,-1), obtenha o ângulo que este vetor faz com o eixo *x* !"
   ]
  },
  {
   "cell_type": "code",
   "execution_count": null,
   "metadata": {
    "collapsed": false
   },
   "outputs": [],
   "source": []
  },
  {
   "cell_type": "markdown",
   "metadata": {},
   "source": [
    "Crie uma lista (chamada de x) com 10 valores entre 0 e 9 de 1 em 1. Armazene os valores em uma lista chamada de __x__ !"
   ]
  },
  {
   "cell_type": "code",
   "execution_count": null,
   "metadata": {
    "collapsed": false
   },
   "outputs": [],
   "source": []
  },
  {
   "cell_type": "markdown",
   "metadata": {},
   "source": [
    "Agora, sabendo que a função:\n",
    "\n",
    "```Python \n",
    "math.exp(x)\n",
    "```\n",
    "\n",
    "retorna o valor de \n",
    "\n",
    "$$ e ^ x $$\n",
    "\n",
    "transforme a lista de valores criada na variável __x__ em uma lista de $ e^x $ !"
   ]
  },
  {
   "cell_type": "code",
   "execution_count": null,
   "metadata": {
    "collapsed": false
   },
   "outputs": [],
   "source": []
  },
  {
   "cell_type": "markdown",
   "metadata": {},
   "source": [
    "Pergunta:\n",
    "\n",
    " 1. O que você teria que modificar nos comandos dados acima utilizando o __math__ se ao invés de realizar:\n",
    " \n",
    " ```Python\n",
    " import math\n",
    "```\n",
    " \n",
    " você tivesse feito:\n",
    " \n",
    " ```Python\n",
    " import math as m\n",
    "```"
   ]
  }
 ],
 "metadata": {
  "kernelspec": {
   "display_name": "Python 2",
   "language": "python",
   "name": "python2"
  },
  "language_info": {
   "codemirror_mode": {
    "name": "ipython",
    "version": 2
   },
   "file_extension": ".py",
   "mimetype": "text/x-python",
   "name": "python",
   "nbconvert_exporter": "python",
   "pygments_lexer": "ipython2",
   "version": "2.7.11"
  }
 },
 "nbformat": 4,
 "nbformat_minor": 0
}

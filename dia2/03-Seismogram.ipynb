{
 "cells": [
  {
   "cell_type": "code",
   "execution_count": null,
   "metadata": {
    "collapsed": true,
    "scrolled": true
   },
   "outputs": [],
   "source": [
    "from __future__ import division, print_function"
   ]
  },
  {
   "cell_type": "code",
   "execution_count": null,
   "metadata": {
    "collapsed": false,
    "scrolled": true
   },
   "outputs": [],
   "source": [
    "%matplotlib inline\n",
    "\n",
    "import math\n",
    "import numpy as np\n",
    "import matplotlib.pyplot as plt"
   ]
  },
  {
   "cell_type": "code",
   "execution_count": 16,
   "metadata": {
    "collapsed": false,
    "scrolled": true
   },
   "outputs": [],
   "source": [
    "class Seismogram(object):\n",
    "    def __init__(self, filename):\n",
    "        \"\"\"\n",
    "        Este método é o construtor, ele deve receber uma string, representando um arquivo\n",
    "        que ele deve ler e carregar e informação necessária.\n",
    "        \"\"\"\n",
    "        # Private Variables\n",
    "        self.__x = None\n",
    "        \n",
    "        # Public Variables\n",
    "        self.station, self.dt, self.nopts = None, None, None\n",
    "        self.z, self.n, self.e = None, None, None\n",
    "        self.baz = None, None\n",
    "\n",
    "        # Load File from disk !\n",
    "        pass\n",
    "\n",
    "    def __iwin(self, tmin, tmax):\n",
    "        \"\"\"\n",
    "        O método recebe valores de time-min e time-max em\n",
    "        segundos e retorna os indices do vetor i-min e i-max\n",
    "        correspondentes como uma tupla.\n",
    "\n",
    "        Ele utiliza o método self.t2i(time) !\n",
    "        \"\"\"\n",
    "\n",
    "        imin = imax = None\n",
    "\n",
    "        # Determine o valor de imin e imax\n",
    "        # ??\n",
    "        \n",
    "        # Valide o resultado obtido\n",
    "        if imin >= imax:\n",
    "            raise Exception(\"Imin >= imax !\")\n",
    "        \n",
    "        if imin < 0: \n",
    "            raise Exception(\"Imin < 0 !\")\n",
    "        \n",
    "        if imax > self.npts:\n",
    "            raise Exception(\"Imax > size of trace !\")\n",
    "\n",
    "        return imin,imax\n",
    "    \n",
    "    def t2i(self, t):\n",
    "        \"\"\"\n",
    "        Método que converter de tempo -> índice dentro do vetores\n",
    "        Usa para isso self.delta\n",
    "        \"\"\"\n",
    "        pass\n",
    "    \n",
    "    def rmean(self, tmin = None, tmax = None):\n",
    "        \"\"\"\n",
    "        Este método remove a média do sismograma em uma janela indicada,\n",
    "        quando a janela não é indicada ele remove a média de todo o dado !\n",
    "        \"\"\"\n",
    "        pass\n",
    "\n",
    "    def t(self):\n",
    "        \"\"\"\n",
    "        Retorna o valor de t, compatível com o os dados z,n e e na memória\n",
    "        este método faz o cache do x na variável self.__x para não ficar gerando\n",
    "        os mesmos dados em cada plot !\n",
    "        \"\"\"\n",
    "        pass\n",
    "\n",
    "    def cut(self, tmin, tmax):\n",
    "        \"\"\"\n",
    "        Este método deve cortar o dado na memória efetivamente entre os valores de tmin e tmax\n",
    "        \"\"\"\n",
    "        pass\n",
    "\n",
    "    def plot(self, tmin = None, tmax = None):\n",
    "        \"\"\"\n",
    "        Este método deve plotar o sismograma na janela tmin e tmax indicada\n",
    "        utilizando o comando plt.subplot, ou seja ele deve fazer uma figura só,\n",
    "        com os dados das três componentes !\n",
    "        \"\"\"\n",
    "        # Obtem os valores imin & imax pelo tmin & tmax\n",
    "        # imin, imax = ??\n",
    "\n",
    "        # Obter o X\n",
    "        # x = \n",
    "\n",
    "        # Plot Z (subplot(3,1,1))\n",
    "        # Plot N (subplot(3,1,2))\n",
    "        # Plot E (subplot(3,1,3))\n",
    "\n",
    "        # Show plot\n",
    "        plt.show()\n",
    "\n",
    "    def azi(self, tmin, tmax, plot = False):\n",
    "        \"\"\"\n",
    "        Este método deve obter o azimute (angulo em graus) do evento em relação a\n",
    "        estação através da mediana do arco-tangente da componente n/e corrigidos pela\n",
    "        componente z.\n",
    "\n",
    "        A estimativa é realizada na janela tmin -> tmax !\n",
    "        Retorna (station name, theoretical azimuth, azimuth)\n",
    "        \"\"\"\n",
    "        pass\n"
   ]
  },
  {
   "cell_type": "markdown",
   "metadata": {},
   "source": [
    "## Parte I - Rodando para 1 evento e testando"
   ]
  },
  {
   "cell_type": "code",
   "execution_count": null,
   "metadata": {
    "collapsed": false,
    "scrolled": true
   },
   "outputs": [],
   "source": [
    "n = Seismogram(\"BAZ/NBAN/EV0.dat\")"
   ]
  },
  {
   "cell_type": "markdown",
   "metadata": {},
   "source": [
    "## Parte II - Rodando para todos os eventos"
   ]
  },
  {
   "cell_type": "code",
   "execution_count": null,
   "metadata": {
    "collapsed": false,
    "scrolled": true
   },
   "outputs": [],
   "source": [
    "import glob\n",
    "\n",
    "vs=[]\n",
    "w1 = 50\n",
    "w2 = 55\n",
    "sta = \"NBAN\"\n",
    "\n",
    "for f in glob.glob(\"BAZ/%s/*.dat\" % sta):\n",
    "    s = Seismogram(f)\n",
    "    s.rmean(w1,w2)\n",
    "    station, t, e = s.azi(w1,w2)\n",
    "    vs.append(e - t)\n",
    "plt.hist(vs, bins = 360 // 5, range=(-180,180))\n",
    "np.median(np.array(vs))"
   ]
  }
 ],
 "metadata": {
  "kernelspec": {
   "display_name": "Python 2",
   "language": "python",
   "name": "python2"
  },
  "language_info": {
   "codemirror_mode": {
    "name": "ipython",
    "version": 2
   },
   "file_extension": ".py",
   "mimetype": "text/x-python",
   "name": "python",
   "nbconvert_exporter": "python",
   "pygments_lexer": "ipython2",
   "version": "2.7.11"
  }
 },
 "nbformat": 4,
 "nbformat_minor": 0
}
